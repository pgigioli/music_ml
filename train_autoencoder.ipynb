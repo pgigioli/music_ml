{
 "cells": [
  {
   "cell_type": "code",
   "execution_count": 59,
   "metadata": {},
   "outputs": [],
   "source": [
    "import torch\n",
    "import torch.nn as nn\n",
    "import torch.nn.functional as F\n",
    "\n",
    "import numpy as np\n",
    "import cv2\n",
    "\n",
    "from src.data import NSynthDataset"
   ]
  },
  {
   "cell_type": "code",
   "execution_count": 48,
   "metadata": {},
   "outputs": [],
   "source": [
    "class Autoencoder(nn.Module):\n",
    "    def __init__(self, h_dim=512):\n",
    "        super(Autoencoder, self).__init__()\n",
    "        \n",
    "        # (1, 40, 126)\n",
    "        self.conv1 = nn.Conv2d(1, 64, 4, padding=1, stride=(2, 2))\n",
    "        self.conv2 = nn.Conv2d(64, 128, 4, padding=1, stride=(2, 2))\n",
    "        self.conv3 = nn.Conv2d(128, 256, 4, padding=1, stride=(2, 2))\n",
    "        self.conv4 = nn.Conv2d(256, 512, 4, padding=1, stride=(2, 2))\n",
    "        \n",
    "        self.fc_enc = nn.Linear(7168, h_dim, bias=True)\n",
    "        self.fc_dec = nn.Linear(h_dim, 7168, bias=True)\n",
    "\n",
    "        self.deconv1 = nn.ConvTranspose2d(512, 256, 3, stride=2)\n",
    "        self.deconv2 = nn.ConvTranspose2d(256, 128, (2, 3), stride=2)\n",
    "        self.deconv3 = nn.ConvTranspose2d(128, 64, (2, 3), stride=2)\n",
    "        self.deconv4 = nn.ConvTranspose2d(64, 1, 2, stride=2)\n",
    "        \n",
    "    def encode(self, x):\n",
    "        x = F.relu(self.conv1(x))\n",
    "        x = F.relu(self.conv2(x))\n",
    "        x = F.relu(self.conv3(x))\n",
    "        x = F.relu(self.conv4(x))\n",
    "    \n",
    "        x = x.view(x.size(0), -1)\n",
    "        return F.relu(self.fc_enc(x))\n",
    "        \n",
    "    def decode(self, z):\n",
    "        h = F.relu(self.fc_dec(z))\n",
    "        h = h.view(h.size(0), 512, 2, 7)\n",
    "        \n",
    "        h = F.relu(self.deconv1(h))\n",
    "        h = F.relu(self.deconv2(h))\n",
    "        h = F.relu(self.deconv3(h))\n",
    "        h = self.deconv4(h)\n",
    "        return F.sigmoid(h)\n",
    "        \n",
    "    def forward(self, x):\n",
    "        z = self.encode(x)\n",
    "        outputs = self.decode(z)\n",
    "        return outputs"
   ]
  },
  {
   "cell_type": "code",
   "execution_count": 58,
   "metadata": {},
   "outputs": [
    {
     "ename": "SyntaxError",
     "evalue": "invalid syntax (<ipython-input-58-7d42eb769332>, line 3)",
     "output_type": "error",
     "traceback": [
      "\u001b[0;36m  File \u001b[0;32m\"<ipython-input-58-7d42eb769332>\"\u001b[0;36m, line \u001b[0;32m3\u001b[0m\n\u001b[0;31m    'batch_size' : 32\u001b[0m\n\u001b[0m               ^\u001b[0m\n\u001b[0;31mSyntaxError\u001b[0m\u001b[0;31m:\u001b[0m invalid syntax\n"
     ]
    }
   ],
   "source": [
    "hparams = {\n",
    "    'n_epochs' : 25,\n",
    "    'batch_size' : 32,\n",
    "    'lr' : 0.001,\n",
    "    'hidden_dim' : 512\n",
    "}"
   ]
  },
  {
   "cell_type": "code",
   "execution_count": 50,
   "metadata": {},
   "outputs": [],
   "source": [
    "batch = torch.tensor(np.random.rand(8, 1, 40, 126), dtype=torch.float32)"
   ]
  },
  {
   "cell_type": "code",
   "execution_count": 49,
   "metadata": {},
   "outputs": [],
   "source": [
    "model = Autoencoder(h_dim=hparams['hidden_dim'])"
   ]
  },
  {
   "cell_type": "code",
   "execution_count": 51,
   "metadata": {},
   "outputs": [
    {
     "name": "stderr",
     "output_type": "stream",
     "text": [
      "/home/ec2-user/anaconda3/envs/pytorch_p36/lib/python3.6/site-packages/torch/nn/functional.py:1351: UserWarning: nn.functional.sigmoid is deprecated. Use torch.sigmoid instead.\n",
      "  warnings.warn(\"nn.functional.sigmoid is deprecated. Use torch.sigmoid instead.\")\n"
     ]
    }
   ],
   "source": [
    "outputs = model(batch)"
   ]
  },
  {
   "cell_type": "code",
   "execution_count": 53,
   "metadata": {},
   "outputs": [
    {
     "data": {
      "text/plain": [
       "torch.Size([8, 1, 40, 126])"
      ]
     },
     "execution_count": 53,
     "metadata": {},
     "output_type": "execute_result"
    }
   ],
   "source": [
    "outputs.size()"
   ]
  },
  {
   "cell_type": "code",
   "execution_count": 55,
   "metadata": {},
   "outputs": [],
   "source": [
    "optimizer = torch.optim.Adam(model.parameters(), lr=hparams['lr'])"
   ]
  },
  {
   "cell_type": "code",
   "execution_count": 56,
   "metadata": {},
   "outputs": [],
   "source": [
    "loss = nn.BCELoss()"
   ]
  },
  {
   "cell_type": "code",
   "execution_count": 57,
   "metadata": {},
   "outputs": [
    {
     "data": {
      "text/plain": [
       "tensor(0.6988, grad_fn=<BinaryCrossEntropyBackward>)"
      ]
     },
     "execution_count": 57,
     "metadata": {},
     "output_type": "execute_result"
    }
   ],
   "source": [
    "loss(outputs, batch)"
   ]
  },
  {
   "cell_type": "code",
   "execution_count": 61,
   "metadata": {},
   "outputs": [],
   "source": [
    "train_dataset = NSynthDataset('music-ml-gigioli', 'data/nsynth/nsynth-train', instrument_sources=[0], feature_type='mfcc')"
   ]
  },
  {
   "cell_type": "code",
   "execution_count": 62,
   "metadata": {},
   "outputs": [],
   "source": [
    "train_dataloader = torch.utils.data.DataLoader(dataset, batch_size=32, shuffle=True)"
   ]
  },
  {
   "cell_type": "code",
   "execution_count": 63,
   "metadata": {},
   "outputs": [
    {
     "name": "stdout",
     "output_type": "stream",
     "text": [
      "torch.Size([32, 40, 126])\n"
     ]
    }
   ],
   "source": [
    "for batch in train_dataloader:\n",
    "    print(batch.size())\n",
    "    break"
   ]
  },
  {
   "cell_type": "code",
   "execution_count": null,
   "metadata": {},
   "outputs": [],
   "source": [
    "for epoch in range(hparams['n_epochs']):\n",
    "    "
   ]
  }
 ],
 "metadata": {
  "kernelspec": {
   "display_name": "conda_pytorch_p36",
   "language": "python",
   "name": "conda_pytorch_p36"
  },
  "language_info": {
   "codemirror_mode": {
    "name": "ipython",
    "version": 3
   },
   "file_extension": ".py",
   "mimetype": "text/x-python",
   "name": "python",
   "nbconvert_exporter": "python",
   "pygments_lexer": "ipython3",
   "version": "3.6.5"
  }
 },
 "nbformat": 4,
 "nbformat_minor": 4
}
