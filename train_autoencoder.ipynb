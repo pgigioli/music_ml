{
 "cells": [
  {
   "cell_type": "code",
   "execution_count": 1,
   "metadata": {},
   "outputs": [
    {
     "name": "stderr",
     "output_type": "stream",
     "text": [
      "/opt/conda/lib/python3.6/site-packages/librosa/util/decorators.py:9: NumbaDeprecationWarning: An import was requested from a module that has moved location.\n",
      "Import of 'jit' requested from: 'numba.decorators', please update to use 'numba.core.decorators' or pin to Numba version 0.48.0. This alias will not be present in Numba version 0.50.0.\n",
      "  from numba.decorators import jit as optional_jit\n"
     ]
    }
   ],
   "source": [
    "%matplotlib inline\n",
    "import matplotlib.pyplot as plt\n",
    "import torch\n",
    "import torch.nn as nn\n",
    "import torch.nn.functional as F\n",
    "import librosa.display\n",
    "import numpy as np\n",
    "import datetime\n",
    "import time\n",
    "import os\n",
    "import json\n",
    "from skimage.transform import resize\n",
    "\n",
    "from src.data import NSynthDataset\n",
    "from src.utils import print_and_log\n",
    "from src.models import Autoencoder, SpatialTimeAutoencoder, AutoencoderLite"
   ]
  },
  {
   "cell_type": "code",
   "execution_count": 2,
   "metadata": {},
   "outputs": [],
   "source": [
    "if torch.cuda.is_available():  \n",
    "    device = torch.device(\"cuda:0\")\n",
    "else:  \n",
    "    device = torch.device(\"cpu\") "
   ]
  },
  {
   "cell_type": "code",
   "execution_count": 3,
   "metadata": {},
   "outputs": [],
   "source": [
    "hparams = {\n",
    "    'checkpoint' : None,\n",
    "    'instrument_source' : [0, 1, 2],\n",
    "    'sample_rate' : 16000,\n",
    "    'n_samples' : 64000,\n",
    "    'feature_type' : 'mel',\n",
    "    'random_crop' : True,\n",
    "    'resize' : None,\n",
    "    'normalize' : True,\n",
    "    'standardize' : True,\n",
    "    'standardize_mean' : 0.3356,\n",
    "    'standardize_std' : 0.2212,\n",
    "    'spec_augment' : False,\n",
    "    'remove_synth_lead' : True,\n",
    "    'n_samples_per_class' : None,\n",
    "    'n_epochs' : 50,\n",
    "    'batch_size' : 32,\n",
    "    'lr' : 0.0001,\n",
    "    'hidden_dim' : 1024,\n",
    "    'display_iters' : 100,\n",
    "    'val_iters' : 1000,\n",
    "    'n_val_samples' : 1000, \n",
    "    'n_early_stopping' : 5 # stop if validation doesn't improve after this number of validation cycles\n",
    "}"
   ]
  },
  {
   "cell_type": "code",
   "execution_count": 4,
   "metadata": {},
   "outputs": [],
   "source": [
    "train_dataset = NSynthDataset(\n",
    "    'data/nsynth/nsynth-train', \n",
    "    include_meta=False, \n",
    "    instrument_source=hparams['instrument_source'], \n",
    "    sample_rate=hparams['sample_rate'], \n",
    "    n_samples=hparams['n_samples'], \n",
    "    feature_type=hparams['feature_type'], \n",
    "    random_crop=hparams['random_crop'], \n",
    "    resize=hparams['resize'], \n",
    "    normalize=hparams['normalize'], \n",
    "    standardize=hparams['standardize'], \n",
    "    standardize_mean=hparams['standardize_mean'], \n",
    "    standardize_std=hparams['standardize_std'], \n",
    "    spec_augment=hparams['spec_augment'],\n",
    "    remove_synth_lead=hparams['remove_synth_lead'], \n",
    "    n_samples_per_class=hparams['n_samples_per_class']\n",
    ")\n",
    "\n",
    "val_dataset = NSynthDataset(\n",
    "    'data/nsynth/nsynth-valid', \n",
    "    include_meta=False, \n",
    "    instrument_source=hparams['instrument_source'], \n",
    "    sample_rate=hparams['sample_rate'], \n",
    "    n_samples=hparams['n_samples'], \n",
    "    feature_type=hparams['feature_type'], \n",
    "    random_crop=hparams['random_crop'], \n",
    "    resize=hparams['resize'], \n",
    "    normalize=hparams['normalize'], \n",
    "    standardize=hparams['standardize'], \n",
    "    standardize_mean=hparams['standardize_mean'], \n",
    "    standardize_std=hparams['standardize_std'], \n",
    "    remove_synth_lead=hparams['remove_synth_lead']\n",
    ")"
   ]
  },
  {
   "cell_type": "code",
   "execution_count": 5,
   "metadata": {},
   "outputs": [],
   "source": [
    "train_dataloader = torch.utils.data.DataLoader(train_dataset, batch_size=hparams['batch_size'], shuffle=True)\n",
    "val_dataloader = torch.utils.data.DataLoader(val_dataset, batch_size=hparams['batch_size'], shuffle=True)"
   ]
  },
  {
   "cell_type": "code",
   "execution_count": 6,
   "metadata": {},
   "outputs": [
    {
     "name": "stdout",
     "output_type": "stream",
     "text": [
      "# of parameters : 8430849\n"
     ]
    }
   ],
   "source": [
    "model = Autoencoder(h_dim=hparams['hidden_dim'], sigmoid=(not hparams['standardize'])).to(device)\n",
    "print('# of parameters : {}'.format(sum(p.numel() for p in model.parameters() if p.requires_grad)))"
   ]
  },
  {
   "cell_type": "code",
   "execution_count": 7,
   "metadata": {},
   "outputs": [],
   "source": [
    "optimizer = torch.optim.Adam(model.parameters(), lr=hparams['lr'])"
   ]
  },
  {
   "cell_type": "code",
   "execution_count": 8,
   "metadata": {},
   "outputs": [
    {
     "name": "stdout",
     "output_type": "stream",
     "text": [
      "Autoencoder\n"
     ]
    }
   ],
   "source": [
    "timestamp = datetime.datetime.fromtimestamp(time.time()).strftime('%Y%m%d-%H%M%S')\n",
    "results_dir = 'train_results/autoencoder/{}'.format(timestamp)\n",
    "os.makedirs(results_dir)\n",
    "\n",
    "with open(os.path.join(results_dir, 'hparams.json'), 'w') as fp:\n",
    "    json.dump(hparams, fp)\n",
    "\n",
    "log_file = os.path.join(results_dir, 'train_log.txt')\n",
    "log = open(log_file, 'w')\n",
    "log.close()\n",
    "print_and_log('{}'.format(model.__class__.__name__), log_file)"
   ]
  },
  {
   "cell_type": "code",
   "execution_count": null,
   "metadata": {},
   "outputs": [
    {
     "name": "stdout",
     "output_type": "stream",
     "text": [
      "[0,     1] loss : 7.0829\n",
      "[0,   100] loss : 0.4378\n",
      "[0,   200] loss : 0.2798\n",
      "[0,   300] loss : 0.2185\n",
      "[0,   400] loss : 0.2244\n",
      "[0,   500] loss : 0.2035\n",
      "[0,   600] loss : 0.1455\n",
      "[0,   700] loss : 0.2172\n",
      "[0,   800] loss : 0.1379\n",
      "[0,   900] loss : 0.1806\n",
      "[0,  1000] loss : 0.1561\n",
      "[0,  1100] loss : 0.1861\n",
      "[0,  1200] loss : 0.1504\n",
      "[0,  1300] loss : 0.1520\n",
      "[0,  1400] loss : 0.1399\n",
      "[0,  1500] loss : 0.1544\n",
      "[0,  1600] loss : 0.1546\n",
      "[0,  1700] loss : 0.1516\n",
      "[0,  1800] loss : 0.1196\n",
      "[0,  1900] loss : 0.1775\n",
      "[0,  2000] loss : 0.1407\n",
      "[0,  2100] loss : 0.1518\n",
      "[0,  2200] loss : 0.1423\n",
      "[0,  2300] loss : 0.1240\n",
      "[0,  2400] loss : 0.1489\n",
      "[0,  2500] loss : 0.1279\n",
      "[0,  2600] loss : 0.1416\n",
      "[0,  2700] loss : 0.1225\n",
      "[0,  2800] loss : 0.1299\n",
      "[0,  2900] loss : 0.1274\n",
      "[0,  3000] loss : 0.1116\n",
      "[0,  3100] loss : 0.1285\n",
      "[0,  3200] loss : 0.1288\n",
      "[0,  3300] loss : 0.1021\n",
      "[0,  3400] loss : 0.1111\n",
      "[0,  3500] loss : 0.1018\n",
      "[0,  3600] loss : 0.0795\n",
      "[0,  3700] loss : 0.1132\n",
      "[0,  3800] loss : 0.1146\n",
      "[0,  3900] loss : 0.0970\n",
      "[0,  4000] loss : 0.1086\n",
      "[0,  4100] loss : 0.0964\n",
      "[0,  4200] loss : 0.0990\n",
      "[0,  4300] loss : 0.1468\n"
     ]
    }
   ],
   "source": [
    "if hparams['standardize']:\n",
    "    loss_fn = nn.MSELoss()\n",
    "else:\n",
    "    loss_fn = nn.BCELoss()\n",
    "\n",
    "ckpt_weights_path = None\n",
    "best_loss = 1e10\n",
    "since_best = 0\n",
    "done = False\n",
    "\n",
    "if hparams['checkpoint']:\n",
    "    print_and_log('Resuming training from {}'.format(hparams['checkpoint']), log_file)\n",
    "    ckpt = torch.load(hparams['checkpoint'])\n",
    "    epoch = ckpt['epoch']\n",
    "    itr = ckpt['itr']\n",
    "    optimizer.load_state_dict(ckpt['optimizer'])\n",
    "    model.load_state_dict(ckpt['model'])\n",
    "    best_loss = ckpt['best_loss']\n",
    "else:\n",
    "    epoch = 0\n",
    "    itr = 0\n",
    "\n",
    "for epoch in range(epoch, hparams['n_epochs']):\n",
    "    if done:\n",
    "        break\n",
    "    \n",
    "    for batch in train_dataloader:\n",
    "        if done:\n",
    "            break\n",
    "            \n",
    "        itr += 1\n",
    "        batch = batch.to(device)\n",
    "        outputs = model(batch)\n",
    "        \n",
    "        loss = loss_fn(outputs, batch)\n",
    "#         loss = (loss_weighting(batch)*loss).mean()\n",
    "\n",
    "        optimizer.zero_grad()\n",
    "        loss.backward()\n",
    "        optimizer.step()\n",
    "        \n",
    "        if (itr % hparams['display_iters'] == 0) or (itr == 1):\n",
    "            print_and_log('[{}, {:5d}] loss : {:.4f}'.format(epoch, itr, loss.item()), log_file)\n",
    "            \n",
    "    # validation\n",
    "    model.eval()\n",
    "    with torch.no_grad():\n",
    "        ct, i, val_loss = 0, 0, 0.0\n",
    "        for batch in val_dataloader:\n",
    "            i += 1\n",
    "            ct += batch.size(0)\n",
    "            batch = batch.to(device)\n",
    "            outputs = model(batch)\n",
    "\n",
    "            loss = loss_fn(outputs, batch)\n",
    "#                     loss = (loss_weighting(batch)*loss).mean()\n",
    "            val_loss += (loss.item() - val_loss)/i\n",
    "\n",
    "            if ct >= hparams['n_val_samples']:\n",
    "                break\n",
    "\n",
    "    print_and_log('Val - loss : {:.4f}'.format(val_loss), log_file)\n",
    "    librosa.display.specshow(batch[0][0].cpu().numpy(), sr=16000, x_axis='time', y_axis='hz')\n",
    "    plt.show()\n",
    "    librosa.display.specshow(outputs[0][0].detach().cpu().numpy(), sr=16000, x_axis='time', y_axis='hz')\n",
    "    plt.show()\n",
    "\n",
    "    if val_loss < best_loss:\n",
    "        since_best = 0\n",
    "        best_loss = val_loss\n",
    "\n",
    "        # save weights\n",
    "        ckpt_weights_path = os.path.join(results_dir, 'model-{}.weights'.format(itr))\n",
    "        torch.save(model.state_dict(), ckpt_weights_path)\n",
    "        print_and_log('Weights saved in {}'.format(ckpt_weights_path), log_file)\n",
    "\n",
    "        # save meta information\n",
    "        ckpt_meta_path = os.path.join(results_dir, 'checkpoint')\n",
    "        torch.save({\n",
    "            'best_loss' : best_loss,\n",
    "            'epoch' : epoch,\n",
    "            'itr' : itr,\n",
    "            'optimizer' : optimizer.state_dict(),\n",
    "            'model' : model.state_dict()\n",
    "        }, ckpt_meta_path)\n",
    "    else:\n",
    "        since_best += 1\n",
    "        if since_best >= hparams['n_early_stopping']:\n",
    "            done = True\n",
    "            print_and_log('Early stopping... training complete', log_file)\n",
    "\n",
    "    model.train()"
   ]
  },
  {
   "cell_type": "code",
   "execution_count": null,
   "metadata": {},
   "outputs": [],
   "source": []
  },
  {
   "cell_type": "code",
   "execution_count": null,
   "metadata": {},
   "outputs": [],
   "source": []
  },
  {
   "cell_type": "code",
   "execution_count": null,
   "metadata": {},
   "outputs": [],
   "source": []
  },
  {
   "cell_type": "code",
   "execution_count": null,
   "metadata": {},
   "outputs": [],
   "source": []
  },
  {
   "cell_type": "code",
   "execution_count": null,
   "metadata": {},
   "outputs": [],
   "source": []
  },
  {
   "cell_type": "code",
   "execution_count": null,
   "metadata": {},
   "outputs": [],
   "source": []
  }
 ],
 "metadata": {
  "kernelspec": {
   "display_name": "Python 3",
   "language": "python",
   "name": "python3"
  },
  "language_info": {
   "codemirror_mode": {
    "name": "ipython",
    "version": 3
   },
   "file_extension": ".py",
   "mimetype": "text/x-python",
   "name": "python",
   "nbconvert_exporter": "python",
   "pygments_lexer": "ipython3",
   "version": "3.6.9"
  }
 },
 "nbformat": 4,
 "nbformat_minor": 4
}
