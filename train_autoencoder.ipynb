{
 "cells": [
  {
   "cell_type": "code",
   "execution_count": 1,
   "metadata": {},
   "outputs": [],
   "source": [
    "import torch\n",
    "import torch.nn as nn\n",
    "import torch.nn.functional as F\n",
    "\n",
    "import numpy as np"
   ]
  },
  {
   "cell_type": "code",
   "execution_count": 2,
   "metadata": {},
   "outputs": [],
   "source": [
    "batch = torch.tensor(np.random.rand(8, 1, 40, 126), dtype=torch.float32)"
   ]
  },
  {
   "cell_type": "code",
   "execution_count": 3,
   "metadata": {},
   "outputs": [
    {
     "data": {
      "text/plain": [
       "torch.Size([8, 1, 40, 126])"
      ]
     },
     "execution_count": 3,
     "metadata": {},
     "output_type": "execute_result"
    }
   ],
   "source": [
    "batch.shape"
   ]
  },
  {
   "cell_type": "code",
   "execution_count": 29,
   "metadata": {},
   "outputs": [],
   "source": [
    "conv1 = nn.Conv2d(1, 64, 4, padding=1, stride=(2, 2))\n",
    "conv2 = nn.Conv2d(64, 128, 4, padding=1, stride=(2, 2))\n",
    "conv3 = nn.Conv2d(128, 256, 4, padding=1, stride=(2, 2))\n",
    "conv4 = nn.Conv2d(256, 512, 4, padding=1, stride=(2, 2))\n",
    "\n",
    "deconv1 = nn.ConvTranspose2d(512, 256, 2, stride=2)\n",
    "deconv2 = nn.ConvTranspose2d(256, 128, 2, stride=2)\n",
    "deconv3 = nn.ConvTranspose2d(128, 64, 2, stride=2)\n",
    "deconv4 = nn.ConvTranspose2d(64, 1, 2, stride=2)"
   ]
  },
  {
   "cell_type": "code",
   "execution_count": 30,
   "metadata": {},
   "outputs": [
    {
     "name": "stdout",
     "output_type": "stream",
     "text": [
      "torch.Size([8, 1, 40, 126])\n",
      "torch.Size([8, 64, 20, 63])\n",
      "torch.Size([8, 128, 10, 31])\n",
      "torch.Size([8, 256, 5, 15])\n",
      "torch.Size([8, 512, 2, 7])\n",
      "torch.Size([8, 7168])\n",
      "torch.Size([8, 512, 2, 7])\n",
      "torch.Size([8, 256, 4, 14])\n",
      "torch.Size([8, 128, 8, 28])\n",
      "torch.Size([8, 64, 16, 56])\n",
      "torch.Size([8, 1, 32, 112])\n"
     ]
    }
   ],
   "source": [
    "print(batch.size())\n",
    "x = conv1(batch)\n",
    "print(x.size())\n",
    "x = conv2(x)\n",
    "print(x.size())\n",
    "x = conv3(x)\n",
    "print(x.size())\n",
    "x = conv4(x)\n",
    "print(x.size())\n",
    "size = x.size()\n",
    "x = x.view(x.size(0), -1)\n",
    "print(x.size())\n",
    "x = x.view(size)\n",
    "print(x.size())\n",
    "x = deconv1(x)\n",
    "print(x.size())\n",
    "x = deconv2(x)\n",
    "print(x.size())\n",
    "x = deconv3(x)\n",
    "print(x.size())\n",
    "x = deconv4(x)\n",
    "print(x.size())"
   ]
  },
  {
   "cell_type": "code",
   "execution_count": null,
   "metadata": {},
   "outputs": [],
   "source": []
  },
  {
   "cell_type": "code",
   "execution_count": null,
   "metadata": {},
   "outputs": [],
   "source": [
    "class ConvAutoencoder(nn.Module):\n",
    "    def __init__(self):\n",
    "        super(ConvAutoencoder, self).__init__()\n",
    "        ## encoder layers ##\n",
    "        # conv layer (depth from 1 --> 16), 3x3 kernels\n",
    "        self.conv1 = nn.Conv2d(1, 16, 3, padding=1)  \n",
    "        # conv layer (depth from 16 --> 4), 3x3 kernels\n",
    "        self.conv2 = nn.Conv2d(16, 4, 3, padding=1)\n",
    "        # pooling layer to reduce x-y dims by two; kernel and stride of 2\n",
    "        self.pool = nn.MaxPool2d(2, 2)\n",
    "        \n",
    "        ## decoder layers ##\n",
    "        ## a kernel of 2 and a stride of 2 will increase the spatial dims by 2\n",
    "        self.t_conv1 = nn.ConvTranspose2d(4, 16, 2, stride=2)\n",
    "        self.t_conv2 = nn.ConvTranspose2d(16, 1, 2, stride=2)\n",
    "\n",
    "\n",
    "    def forward(self, x):\n",
    "        ## encode ##\n",
    "        # add hidden layers with relu activation function\n",
    "        # and maxpooling after\n",
    "        x = F.relu(self.conv1(x))\n",
    "        x = self.pool(x)\n",
    "        # add second hidden layer\n",
    "        x = F.relu(self.conv2(x))\n",
    "        x = self.pool(x)  # compressed representation\n",
    "        \n",
    "        ## decode ##\n",
    "        # add transpose conv layers, with relu activation function\n",
    "        x = F.relu(self.t_conv1(x))\n",
    "        # output layer (with sigmoid for scaling from 0 to 1)\n",
    "        x = F.sigmoid(self.t_conv2(x))\n",
    "                \n",
    "        return x\n",
    "\n",
    "# initialize the NN\n",
    "model = ConvAutoencoder()"
   ]
  }
 ],
 "metadata": {
  "kernelspec": {
   "display_name": "conda_pytorch_p36",
   "language": "python",
   "name": "conda_pytorch_p36"
  },
  "language_info": {
   "codemirror_mode": {
    "name": "ipython",
    "version": 3
   },
   "file_extension": ".py",
   "mimetype": "text/x-python",
   "name": "python",
   "nbconvert_exporter": "python",
   "pygments_lexer": "ipython3",
   "version": "3.6.7"
  }
 },
 "nbformat": 4,
 "nbformat_minor": 4
}
