{
 "cells": [
  {
   "cell_type": "code",
   "execution_count": 1,
   "metadata": {},
   "outputs": [
    {
     "name": "stderr",
     "output_type": "stream",
     "text": [
      "/home/ec2-user/.local/lib/python3.6/site-packages/librosa/util/decorators.py:9: NumbaDeprecationWarning: \u001b[1mAn import was requested from a module that has moved location.\n",
      "Import of 'jit' requested from: 'numba.decorators', please update to use 'numba.core.decorators' or pin to Numba version 0.48.0. This alias will not be present in Numba version 0.50.0.\u001b[0m\n",
      "  from numba.decorators import jit as optional_jit\n"
     ]
    }
   ],
   "source": [
    "%matplotlib inline\n",
    "import matplotlib.pyplot as plt\n",
    "import torch\n",
    "import torch.nn as nn\n",
    "import torch.nn.functional as F\n",
    "import librosa.display\n",
    "import numpy as np\n",
    "import datetime\n",
    "import time\n",
    "import os\n",
    "import json\n",
    "\n",
    "from src.data import NSynthDataset\n",
    "from src.utils import print_and_log\n",
    "from src.models import Autoencoder"
   ]
  },
  {
   "cell_type": "code",
   "execution_count": 2,
   "metadata": {},
   "outputs": [],
   "source": [
    "# class Autoencoder(nn.Module):\n",
    "#     def __init__(self, h_dim=128):\n",
    "#         super(Autoencoder, self).__init__()\n",
    "        \n",
    "#         # (1, 128, 251)\n",
    "#         self.conv1 = nn.Conv2d(1, 32, 4, padding=(1, 4), stride=(2, 2))\n",
    "#         self.conv2 = nn.Conv2d(32, 64, 4, padding=1, stride=(2, 2))\n",
    "#         self.conv3 = nn.Conv2d(64, 128, 4, padding=1, stride=(2, 2))\n",
    "#         self.conv4 = nn.Conv2d(128, 256, 4, padding=1, stride=(2, 2))\n",
    "#         self.conv5 = nn.Conv2d(256, 512, 4, padding=1, stride=(2, 2))\n",
    "\n",
    "#         self.fc_enc = nn.Linear(512*4*8, h_dim, bias=True)\n",
    "#         self.fc_dec = nn.Linear(h_dim, 512*4*8, bias=True)\n",
    "\n",
    "#         self.deconv1 = nn.ConvTranspose2d(512, 256, 2, stride=2)\n",
    "#         self.deconv2 = nn.ConvTranspose2d(256, 128, 2, stride=2)\n",
    "#         self.deconv3 = nn.ConvTranspose2d(128, 64, 2, stride=2)\n",
    "#         self.deconv4 = nn.ConvTranspose2d(64, 32, 2, stride=2)\n",
    "#         self.deconv5 = nn.ConvTranspose2d(32, 1, (2, 3), padding=(0, 3), stride=2)\n",
    "        \n",
    "#         # (1, 40, 126)\n",
    "# #         self.conv1 = nn.Conv2d(1, 32, 4, padding=1, stride=(2, 2))\n",
    "# #         self.conv2 = nn.Conv2d(32, 64, 4, padding=1, stride=(2, 2))\n",
    "# #         self.conv3 = nn.Conv2d(64, 128, 4, padding=1, stride=(2, 2))\n",
    "# #         self.conv4 = nn.Conv2d(128, 256, 4, padding=1, stride=(2, 2))\n",
    "        \n",
    "# #         self.fc_enc = nn.Linear(3584, h_dim, bias=True)\n",
    "# #         self.fc_dec = nn.Linear(h_dim, 3584, bias=True)\n",
    "\n",
    "# #         self.deconv1 = nn.ConvTranspose2d(256, 128, 3, stride=2)\n",
    "# #         self.deconv2 = nn.ConvTranspose2d(128, 64, (2, 3), stride=2)\n",
    "# #         self.deconv3 = nn.ConvTranspose2d(64, 32, (2, 3), stride=2)\n",
    "# #         self.deconv4 = nn.ConvTranspose2d(32, 1, 2, stride=2)\n",
    "        \n",
    "#     def encode(self, x):\n",
    "#         x = F.relu(self.conv1(x))\n",
    "#         x = F.relu(self.conv2(x))\n",
    "#         x = F.relu(self.conv3(x))\n",
    "#         x = F.relu(self.conv4(x))\n",
    "#         x = F.relu(self.conv5(x))\n",
    "    \n",
    "#         x = x.view(x.size(0), -1)\n",
    "#         return F.relu(self.fc_enc(x))\n",
    "        \n",
    "#     def decode(self, z):\n",
    "#         h = F.relu(self.fc_dec(z))\n",
    "#         h = h.view(h.size(0), 512, 4, 8)\n",
    "        \n",
    "#         h = F.relu(self.deconv1(h))\n",
    "#         h = F.relu(self.deconv2(h))\n",
    "#         h = F.relu(self.deconv3(h))\n",
    "#         h = F.relu(self.deconv4(h))\n",
    "#         h = self.deconv5(h)\n",
    "#         return torch.sigmoid(h)\n",
    "        \n",
    "#     def forward(self, x):\n",
    "#         z = self.encode(x)\n",
    "#         outputs = self.decode(z)\n",
    "#         return outputs"
   ]
  },
  {
   "cell_type": "code",
   "execution_count": 3,
   "metadata": {},
   "outputs": [],
   "source": [
    "hparams = {\n",
    "    'checkpoint' : 'train_results/autoencoder/20200429-221433/checkpoint',\n",
    "    'feature_type' : 'mel',\n",
    "    'instrument_source' : [0],\n",
    "    'scaling' : 'normalize',\n",
    "    'n_epochs' : 25,\n",
    "    'batch_size' : 32,\n",
    "    'lr' : 0.001,\n",
    "    'hidden_dim' : 128,\n",
    "    'display_iters' : 100,\n",
    "    'val_iters' : 1000,\n",
    "    'n_val_samples' : 1000,\n",
    "    'n_early_stopping' : 5 # stop if validation doesn't improve after this number of validation cycles\n",
    "}"
   ]
  },
  {
   "cell_type": "code",
   "execution_count": 4,
   "metadata": {},
   "outputs": [],
   "source": [
    "train_dataset = NSynthDataset(\n",
    "    'music-ml-gigioli', \n",
    "    'data/nsynth/nsynth-train', \n",
    "    instrument_source=hparams['instrument_source'], \n",
    "    feature_type=hparams['feature_type'],\n",
    "    scaling=hparams['scaling']\n",
    ")\n",
    "\n",
    "val_dataset = NSynthDataset(\n",
    "    'music-ml-gigioli', \n",
    "    'data/nsynth/nsynth-valid', \n",
    "    instrument_source=hparams['instrument_source'], \n",
    "    feature_type=hparams['feature_type'],\n",
    "    scaling=hparams['scaling']\n",
    ")"
   ]
  },
  {
   "cell_type": "code",
   "execution_count": 5,
   "metadata": {},
   "outputs": [],
   "source": [
    "train_dataloader = torch.utils.data.DataLoader(train_dataset, batch_size=hparams['batch_size'], shuffle=True)\n",
    "val_dataloader = torch.utils.data.DataLoader(val_dataset, batch_size=hparams['batch_size'], shuffle=True)"
   ]
  },
  {
   "cell_type": "code",
   "execution_count": 6,
   "metadata": {},
   "outputs": [],
   "source": [
    "model = Autoencoder(h_dim=hparams['hidden_dim'])"
   ]
  },
  {
   "cell_type": "code",
   "execution_count": 7,
   "metadata": {},
   "outputs": [],
   "source": [
    "optimizer = torch.optim.Adam(model.parameters(), lr=hparams['lr'])"
   ]
  },
  {
   "cell_type": "code",
   "execution_count": 8,
   "metadata": {},
   "outputs": [],
   "source": [
    "timestamp = datetime.datetime.fromtimestamp(time.time()).strftime('%Y%m%d-%H%M%S')\n",
    "results_dir = 'train_results/autoencoder/{}'.format(timestamp)\n",
    "os.makedirs(results_dir)\n",
    "\n",
    "with open(os.path.join(results_dir, 'hparams.json'), 'w') as fp:\n",
    "    json.dump(hparams, fp)\n",
    "\n",
    "log_file = os.path.join(results_dir, 'train_log.txt')\n",
    "log = open(log_file, 'w')\n",
    "log.close()"
   ]
  },
  {
   "cell_type": "code",
   "execution_count": null,
   "metadata": {},
   "outputs": [
    {
     "name": "stdout",
     "output_type": "stream",
     "text": [
      "Resuming training from train_results/autoencoder/20200429-221433/checkpoint\n",
      "[0,  3100] loss : 0.0077\n",
      "[0,  3200] loss : 0.0082\n",
      "[0,  3300] loss : 0.0110\n",
      "[0,  3400] loss : 0.0081\n",
      "[0,  3500] loss : 0.0086\n",
      "[0,  3600] loss : 0.0149\n",
      "[0,  3700] loss : 0.0091\n",
      "[0,  3800] loss : 0.0115\n",
      "[0,  3900] loss : 0.0143\n",
      "[0,  4000] loss : 0.0074\n",
      "Val - loss : 0.0169\n"
     ]
    },
    {
     "data": {
      "image/png": "[encoded data removed]",
      "text/plain": [
       "<Figure size 432x288 with 1 Axes>"
      ]
     },
     "metadata": {},
     "output_type": "display_data"
    },
    {
     "data": {
      "image/png": "[encoded data removed]",
      "text/plain": [
       "<Figure size 432x288 with 1 Axes>"
      ]
     },
     "metadata": {},
     "output_type": "display_data"
    },
    {
     "name": "stdout",
     "output_type": "stream",
     "text": [
      "Weights saved in train_results/autoencoder/20200430-175135/model-4000.weights\n",
      "[0,  4100] loss : 0.0087\n",
      "[0,  4200] loss : 0.0096\n",
      "[0,  4300] loss : 0.0126\n",
      "[0,  4400] loss : 0.0120\n",
      "[0,  4500] loss : 0.0076\n",
      "[0,  4600] loss : 0.0078\n",
      "[0,  4700] loss : 0.0082\n",
      "[0,  4800] loss : 0.0091\n",
      "[0,  4900] loss : 0.0087\n",
      "[0,  5000] loss : 0.0096\n",
      "Val - loss : 0.0181\n"
     ]
    },
    {
     "data": {
      "image/png": "[encoded data removed]",
      "text/plain": [
       "<Figure size 432x288 with 1 Axes>"
      ]
     },
     "metadata": {},
     "output_type": "display_data"
    },
    {
     "data": {
      "image/png": "[encoded data removed]",
      "text/plain": [
       "<Figure size 432x288 with 1 Axes>"
      ]
     },
     "metadata": {},
     "output_type": "display_data"
    },
    {
     "name": "stdout",
     "output_type": "stream",
     "text": [
      "[0,  5100] loss : 0.0161\n",
      "[0,  5200] loss : 0.0157\n",
      "[0,  5300] loss : 0.0090\n",
      "[0,  5400] loss : 0.0096\n",
      "[0,  5500] loss : 0.0090\n",
      "[0,  5600] loss : 0.0119\n",
      "[0,  5700] loss : 0.0146\n",
      "[0,  5800] loss : 0.0150\n",
      "[0,  5900] loss : 0.0096\n",
      "[0,  6000] loss : 0.0066\n",
      "Val - loss : 0.0162\n"
     ]
    },
    {
     "data": {
      "image/png": "[encoded data removed]",
      "text/plain": [
       "<Figure size 432x288 with 1 Axes>"
      ]
     },
     "metadata": {},
     "output_type": "display_data"
    },
    {
     "data": {
      "image/png": "[encoded data removed]",
      "text/plain": [
       "<Figure size 432x288 with 1 Axes>"
      ]
     },
     "metadata": {},
     "output_type": "display_data"
    },
    {
     "name": "stdout",
     "output_type": "stream",
     "text": [
      "Weights saved in train_results/autoencoder/20200430-175135/model-6000.weights\n",
      "[0,  6100] loss : 0.0155\n",
      "[1,  6200] loss : 0.0080\n",
      "[1,  6300] loss : 0.0124\n",
      "[1,  6400] loss : 0.0087\n",
      "[1,  6500] loss : 0.0118\n",
      "[1,  6600] loss : 0.0107\n",
      "[1,  6700] loss : 0.0066\n",
      "[1,  6800] loss : 0.0092\n",
      "[1,  6900] loss : 0.0082\n",
      "[1,  7000] loss : 0.0108\n",
      "Val - loss : 0.0153\n"
     ]
    },
    {
     "data": {
      "image/png": "[encoded data removed]",
      "text/plain": [
       "<Figure size 432x288 with 1 Axes>"
      ]
     },
     "metadata": {},
     "output_type": "display_data"
    },
    {
     "data": {
      "image/png": "[encoded data removed]",
      "text/plain": [
       "<Figure size 432x288 with 1 Axes>"
      ]
     },
     "metadata": {},
     "output_type": "display_data"
    },
    {
     "name": "stdout",
     "output_type": "stream",
     "text": [
      "Weights saved in train_results/autoencoder/20200430-175135/model-7000.weights\n",
      "[1,  7100] loss : 0.0085\n",
      "[1,  7200] loss : 0.0069\n",
      "[1,  7300] loss : 0.0129\n",
      "[1,  7400] loss : 0.0101\n",
      "[1,  7500] loss : 0.0061\n",
      "[1,  7600] loss : 0.0118\n",
      "[1,  7700] loss : 0.0083\n"
     ]
    }
   ],
   "source": [
    "loss_fn = nn.BCELoss()\n",
    "\n",
    "ckpt_weights_path = None\n",
    "best_loss = 1e10\n",
    "since_best = 0\n",
    "done = False\n",
    "\n",
    "if hparams['checkpoint']:\n",
    "    print_and_log('Resuming training from {}'.format(hparams['checkpoint']), log_file)\n",
    "    ckpt = torch.load(hparams['checkpoint'])\n",
    "    epoch = ckpt['epoch']\n",
    "    itr = ckpt['itr']\n",
    "    optimizer.load_state_dict(ckpt['optimizer'])\n",
    "    model.load_state_dict(ckpt['model'])\n",
    "    best_loss = ckpt['best_loss']\n",
    "else:\n",
    "    epoch = 0\n",
    "    itr = 0\n",
    "\n",
    "for epoch in range(epoch, hparams['n_epochs']):\n",
    "    if done:\n",
    "        break\n",
    "    \n",
    "    for batch in train_dataloader:\n",
    "        if done:\n",
    "            break\n",
    "            \n",
    "        itr += 1\n",
    "        batch = batch.unsqueeze(1)\n",
    "        outputs = model(batch)\n",
    "        \n",
    "        loss = loss_fn(outputs, batch)\n",
    "        optimizer.zero_grad()\n",
    "        loss.backward()\n",
    "        optimizer.step()\n",
    "        \n",
    "        if (itr % hparams['display_iters'] == 0) or (itr == 1):\n",
    "            print_and_log('[{}, {:5d}] loss : {:.4f}'.format(epoch, itr, loss.item()), log_file)\n",
    "            \n",
    "        if itr % hparams['val_iters'] == 0:\n",
    "            val_dataloader = torch.utils.data.DataLoader(val_dataset, batch_size=hparams['batch_size'], shuffle=True)\n",
    "            \n",
    "            model.eval()\n",
    "            \n",
    "            ct, i, val_loss = 0, 0, 0.0\n",
    "            for batch in val_dataloader:\n",
    "                i += 1\n",
    "                ct += batch.size(0)\n",
    "                batch = batch.unsqueeze(1)\n",
    "                outputs = model(batch)\n",
    "                \n",
    "                loss = loss_fn(outputs, batch)\n",
    "                val_loss += (loss.item() - val_loss)/i\n",
    "                \n",
    "                if ct >= hparams['n_val_samples']:\n",
    "                    break\n",
    "            \n",
    "            print_and_log('Val - loss : {:.4f}'.format(val_loss), log_file)\n",
    "            librosa.display.specshow(batch[0][0].numpy(), sr=16000, x_axis='time', y_axis='hz')\n",
    "            plt.show()\n",
    "            librosa.display.specshow(outputs[0][0].detach().numpy(), sr=16000, x_axis='time', y_axis='hz')\n",
    "            plt.show()\n",
    "            \n",
    "            if val_loss < best_loss:\n",
    "                since_best = 0\n",
    "                best_loss = val_loss\n",
    "                \n",
    "                # save weights\n",
    "                if ckpt_weights_path:\n",
    "                    os.remove(ckpt_weights_path)\n",
    "                ckpt_weights_path = os.path.join(results_dir, 'model-{}.weights'.format(itr))\n",
    "                torch.save(model.state_dict(), ckpt_weights_path)\n",
    "                print_and_log('Weights saved in {}'.format(ckpt_weights_path), log_file)\n",
    "                \n",
    "                # save meta information\n",
    "                ckpt_meta_path = os.path.join(results_dir, 'checkpoint')\n",
    "                torch.save({\n",
    "                    'best_loss' : best_loss,\n",
    "                    'epoch' : epoch,\n",
    "                    'itr' : itr,\n",
    "                    'optimizer' : optimizer.state_dict(),\n",
    "                    'model' : model.state_dict()\n",
    "                }, ckpt_meta_path)\n",
    "            else:\n",
    "                since_best += 1\n",
    "                if since_best >= hparams['n_early_stopping']:\n",
    "                    done = True\n",
    "                    print_and_log('Early stopping... training complete', log_file)\n",
    "                    \n",
    "            model.train()"
   ]
  },
  {
   "cell_type": "code",
   "execution_count": null,
   "metadata": {},
   "outputs": [],
   "source": []
  },
  {
   "cell_type": "code",
   "execution_count": null,
   "metadata": {},
   "outputs": [],
   "source": []
  },
  {
   "cell_type": "code",
   "execution_count": null,
   "metadata": {},
   "outputs": [],
   "source": []
  },
  {
   "cell_type": "code",
   "execution_count": null,
   "metadata": {},
   "outputs": [],
   "source": []
  },
  {
   "cell_type": "code",
   "execution_count": null,
   "metadata": {},
   "outputs": [],
   "source": []
  },
  {
   "cell_type": "code",
   "execution_count": null,
   "metadata": {},
   "outputs": [],
   "source": []
  },
  {
   "cell_type": "code",
   "execution_count": null,
   "metadata": {},
   "outputs": [],
   "source": []
  },
  {
   "cell_type": "code",
   "execution_count": null,
   "metadata": {},
   "outputs": [],
   "source": []
  }
 ],
 "metadata": {
  "kernelspec": {
   "display_name": "conda_pytorch_p36",
   "language": "python",
   "name": "conda_pytorch_p36"
  },
  "language_info": {
   "codemirror_mode": {
    "name": "ipython",
    "version": 3
   },
   "file_extension": ".py",
   "mimetype": "text/x-python",
   "name": "python",
   "nbconvert_exporter": "python",
   "pygments_lexer": "ipython3",
   "version": "3.6.5"
  }
 },
 "nbformat": 4,
 "nbformat_minor": 4
}
