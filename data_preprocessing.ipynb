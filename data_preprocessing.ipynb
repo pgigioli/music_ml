{
 "cells": [
  {
   "cell_type": "code",
   "execution_count": 12,
   "metadata": {},
   "outputs": [
    {
     "name": "stdout",
     "output_type": "stream",
     "text": [
      "Requirement already satisfied: sounddevice in /home/ec2-user/anaconda3/envs/pytorch_p36/lib/python3.6/site-packages (0.3.14)\n",
      "Requirement already satisfied: CFFI>=1.0 in /home/ec2-user/anaconda3/envs/pytorch_p36/lib/python3.6/site-packages (from sounddevice) (1.11.5)\n",
      "Requirement already satisfied: pycparser in /home/ec2-user/anaconda3/envs/pytorch_p36/lib/python3.6/site-packages (from CFFI>=1.0->sounddevice) (2.18)\n",
      "\u001b[33mYou are using pip version 10.0.1, however version 20.0.2 is available.\n",
      "You should consider upgrading via the 'pip install --upgrade pip' command.\u001b[0m\n"
     ]
    }
   ],
   "source": [
    "!pip install sounddevice"
   ]
  },
  {
   "cell_type": "code",
   "execution_count": 22,
   "metadata": {},
   "outputs": [
    {
     "name": "stdout",
     "output_type": "stream",
     "text": [
      "Loaded plugins: dkms-build-requires, priorities, update-motd, upgrade-helper,\n",
      "              : versionlock\n",
      "No package \u001b[1mpython-pyaudio\u001b[m available.\n",
      "Error: Nothing to do\n"
     ]
    }
   ],
   "source": [
    "!sudo yum install python-pyaudio"
   ]
  },
  {
   "cell_type": "code",
   "execution_count": 6,
   "metadata": {
    "collapsed": true,
    "jupyter": {
     "outputs_hidden": true
    }
   },
   "outputs": [
    {
     "name": "stdout",
     "output_type": "stream",
     "text": [
      "Solving environment: done\n",
      "\n",
      "\n",
      "==> WARNING: A newer version of conda exists. <==\n",
      "  current version: 4.5.12\n",
      "  latest version: 4.8.2\n",
      "\n",
      "Please update conda by running\n",
      "\n",
      "    $ conda update -n base -c defaults conda\n",
      "\n",
      "\n",
      "\n",
      "## Package Plan ##\n",
      "\n",
      "  environment location: /home/ec2-user/anaconda3/envs/pytorch_p36\n",
      "\n",
      "  added / updated specs: \n",
      "    - librosa\n",
      "\n",
      "\n",
      "The following packages will be downloaded:\n",
      "\n",
      "    package                    |            build\n",
      "    ---------------------------|-----------------\n",
      "    krb5-1.16.4                |       h2fd8d38_0         1.4 MB  conda-forge\n",
      "    pykerberos-1.2.1           |   py36h505690d_0          26 KB  conda-forge\n",
      "    cryptography-2.8           |   py36h72c5cf5_1         616 KB  conda-forge\n",
      "    joblib-0.14.1              |             py_0         198 KB  conda-forge\n",
      "    python-3.6.7               |    h381d211_1004        34.5 MB  conda-forge\n",
      "    libflac-1.3.1              |    he1b5a44_1002         570 KB  conda-forge\n",
      "    expat-2.2.9                |       he1b5a44_2         191 KB  conda-forge\n",
      "    tk-8.6.10                  |       hed695b0_0         3.2 MB  conda-forge\n",
      "    resampy-0.2.2              |             py_0         332 KB  conda-forge\n",
      "    libogg-1.3.2               |    h516909a_1002         206 KB  conda-forge\n",
      "    pycurl-7.43.0.5            |   py36h16ce93b_0          69 KB  conda-forge\n",
      "    pysoundfile-0.10.2         |          py_1001          21 KB  conda-forge\n",
      "    libsndfile-1.0.28          |    he1b5a44_1000         529 KB  conda-forge\n",
      "    librosa-0.7.2              |             py_0         1.5 MB  conda-forge\n",
      "    curl-7.68.0                |       hf8cf82a_0         137 KB  conda-forge\n",
      "    libcurl-7.68.0             |       hda55be3_0         564 KB  conda-forge\n",
      "    audioread-2.1.8            |           py36_1          32 KB  conda-forge\n",
      "    libvorbis-1.3.5            |    h516909a_1002         624 KB  conda-forge\n",
      "    ------------------------------------------------------------\n",
      "                                           Total:        44.7 MB\n",
      "\n",
      "The following NEW packages will be INSTALLED:\n",
      "\n",
      "    audioread:       2.1.8-py36_1              conda-forge\n",
      "    ffmpeg:          4.1.3-h167e202_0          conda-forge\n",
      "    gettext:         0.19.8.1-hc5be6a0_1002    conda-forge\n",
      "    gnutls:          3.6.5-hd3a4fd2_1002       conda-forge\n",
      "    joblib:          0.14.1-py_0               conda-forge\n",
      "    lame:            3.100-h14c3975_1001       conda-forge\n",
      "    libflac:         1.3.1-he1b5a44_1002       conda-forge\n",
      "    libiconv:        1.15-h516909a_1005        conda-forge\n",
      "    libogg:          1.3.2-h516909a_1002       conda-forge\n",
      "    librosa:         0.7.2-py_0                conda-forge\n",
      "    libsndfile:      1.0.28-he1b5a44_1000      conda-forge\n",
      "    libvorbis:       1.3.5-h516909a_1002       conda-forge\n",
      "    nettle:          3.4.1-h1bed415_1002       conda-forge\n",
      "    openh264:        1.8.0-hdbcaa40_1000       conda-forge\n",
      "    pysoundfile:     0.10.2-py_1001            conda-forge\n",
      "    resampy:         0.2.2-py_0                conda-forge\n",
      "    x264:            1!152.20180806-h14c3975_0 conda-forge\n",
      "\n",
      "The following packages will be UPDATED:\n",
      "\n",
      "    ca-certificates: 2019.10.16-0                          --> 2019.11.28-hecc5488_0   conda-forge\n",
      "    certifi:         2019.9.11-py36_0                      --> 2019.11.28-py36_0       conda-forge\n",
      "    cryptography:    2.2.2-py36h14c3975_0                  --> 2.8-py36h72c5cf5_1      conda-forge\n",
      "    curl:            7.60.0-h84994c4_0                     --> 7.68.0-hf8cf82a_0       conda-forge\n",
      "    expat:           2.2.5-he0dffb1_0                      --> 2.2.9-he1b5a44_2        conda-forge\n",
      "    glib:            2.56.1-h000015b_0                     --> 2.58.3-h6f030ca_1002    conda-forge\n",
      "    krb5:            1.14.2-hcdc1b81_6                     --> 1.16.4-h2fd8d38_0       conda-forge\n",
      "    libcurl:         7.60.0-h1ad7b7a_0                     --> 7.68.0-hda55be3_0       conda-forge\n",
      "    libssh2:         1.8.0-h9cfc8f7_4                      --> 1.8.2-h22169c7_2        conda-forge\n",
      "    openssl:         1.0.2t-h7b6447c_1                     --> 1.1.1d-h516909a_0       conda-forge\n",
      "    pycurl:          7.43.0.1-py36hb7f436b_0               --> 7.43.0.5-py36h16ce93b_0 conda-forge\n",
      "    pykerberos:      1.2.1-py36h14c3975_0                  --> 1.2.1-py36h505690d_0    conda-forge\n",
      "    python:          3.6.5-hc3d631a_2                      --> 3.6.7-h381d211_1004     conda-forge\n",
      "    qt:              5.9.6-h52aff34_0                      --> 5.9.7-h5867ecd_1                   \n",
      "    sqlite:          3.23.1-he433501_0                     --> 3.28.0-h8b20d00_0       conda-forge\n",
      "    tk:              8.6.8-hbc83047_0                      --> 8.6.10-hed695b0_0       conda-forge\n",
      "\n",
      "\n",
      "Downloading and Extracting Packages\n",
      "krb5-1.16.4          | 1.4 MB    | ##################################### | 100% \n",
      "pykerberos-1.2.1     | 26 KB     | ##################################### | 100% \n",
      "cryptography-2.8     | 616 KB    | ##################################### | 100% \n",
      "joblib-0.14.1        | 198 KB    | ##################################### | 100% \n",
      "python-3.6.7         | 34.5 MB   | ##################################### | 100% \n",
      "libflac-1.3.1        | 570 KB    | ##################################### | 100% \n",
      "expat-2.2.9          | 191 KB    | ##################################### | 100% \n",
      "tk-8.6.10            | 3.2 MB    | ##################################### | 100% \n",
      "resampy-0.2.2        | 332 KB    | ##################################### | 100% \n",
      "libogg-1.3.2         | 206 KB    | ##################################### | 100% \n",
      "pycurl-7.43.0.5      | 69 KB     | ##################################### | 100% \n",
      "pysoundfile-0.10.2   | 21 KB     | ##################################### | 100% \n",
      "libsndfile-1.0.28    | 529 KB    | ##################################### | 100% \n",
      "librosa-0.7.2        | 1.5 MB    | ##################################### | 100% \n",
      "curl-7.68.0          | 137 KB    | ##################################### | 100% \n",
      "libcurl-7.68.0       | 564 KB    | ##################################### | 100% \n",
      "audioread-2.1.8      | 32 KB     | ##################################### | 100% \n",
      "libvorbis-1.3.5      | 624 KB    | ##################################### | 100% \n",
      "Preparing transaction: done\n",
      "Verifying transaction: done\n",
      "Executing transaction: done\n"
     ]
    }
   ],
   "source": [
    "!conda install -c conda-forge librosa -y"
   ]
  },
  {
   "cell_type": "code",
   "execution_count": 23,
   "metadata": {},
   "outputs": [],
   "source": [
    "import os\n",
    "import librosa\n",
    "import numpy as np\n",
    "import matplotlib.pyplot as plt\n",
    "from matplotlib.pyplot import specgram\n",
    "import soundfile as sf\n",
    "#import sounddevice as sd\n",
    "import queue"
   ]
  },
  {
   "cell_type": "code",
   "execution_count": 24,
   "metadata": {},
   "outputs": [],
   "source": [
    "def extract_feature(file_name):\n",
    "    X, sample_rate = sf.read(file_name, dtype='float32')\n",
    "\n",
    "    if X.ndim > 1: X = X[:,0]\n",
    "    X = X.T\n",
    "\n",
    "    # short term fourier transform\n",
    "    stft = np.abs(librosa.stft(X))\n",
    "\n",
    "    # mfcc (mel-frequency cepstrum)\n",
    "    mfccs = np.mean(librosa.feature.mfcc(y=X, sr=sample_rate, n_mfcc=40).T,axis=0)\n",
    "\n",
    "    # chroma\n",
    "    chroma = np.mean(librosa.feature.chroma_stft(S=stft, sr=sample_rate).T,axis=0)\n",
    "\n",
    "    # melspectrogram\n",
    "    mel = np.mean(librosa.feature.melspectrogram(X, sr=sample_rate).T,axis=0)\n",
    "\n",
    "    # spectral contrast\n",
    "    contrast = np.mean(librosa.feature.spectral_contrast(S=stft, sr=sample_rate).T,axis=0)\n",
    "\n",
    "    tonnetz = np.mean(librosa.feature.tonnetz(y=librosa.effects.harmonic(X), sr=sample_rate).T,axis=0)\n",
    "    return mfccs,chroma,mel,contrast,tonnetz"
   ]
  },
  {
   "cell_type": "code",
   "execution_count": null,
   "metadata": {},
   "outputs": [],
   "source": []
  }
 ],
 "metadata": {
  "kernelspec": {
   "display_name": "conda_pytorch_p36",
   "language": "python",
   "name": "conda_pytorch_p36"
  },
  "language_info": {
   "codemirror_mode": {
    "name": "ipython",
    "version": 3
   },
   "file_extension": ".py",
   "mimetype": "text/x-python",
   "name": "python",
   "nbconvert_exporter": "python",
   "pygments_lexer": "ipython3",
   "version": "3.6.5"
  }
 },
 "nbformat": 4,
 "nbformat_minor": 4
}
