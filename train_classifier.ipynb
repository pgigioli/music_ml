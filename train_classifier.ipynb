{
 "cells": [
  {
   "cell_type": "code",
   "execution_count": 1,
   "metadata": {},
   "outputs": [
    {
     "name": "stderr",
     "output_type": "stream",
     "text": [
      "/home/ec2-user/.local/lib/python3.6/site-packages/librosa/util/decorators.py:9: NumbaDeprecationWarning: \u001b[1mAn import was requested from a module that has moved location.\n",
      "Import of 'jit' requested from: 'numba.decorators', please update to use 'numba.core.decorators' or pin to Numba version 0.48.0. This alias will not be present in Numba version 0.50.0.\u001b[0m\n",
      "  from numba.decorators import jit as optional_jit\n"
     ]
    }
   ],
   "source": [
    "import torch\n",
    "import torch.nn as nn\n",
    "import torch.nn.functional as F\n",
    "import numpy as np\n",
    "from collections import Counter\n",
    "import datetime\n",
    "import time\n",
    "import os\n",
    "import json\n",
    "\n",
    "from src.data import NSynthDataset\n",
    "from src.utils import print_and_log"
   ]
  },
  {
   "cell_type": "code",
   "execution_count": 2,
   "metadata": {},
   "outputs": [],
   "source": [
    "class Classifier(nn.Module):\n",
    "    def __init__(self, n_classes, h_dim=128):\n",
    "        super(Classifier, self).__init__()\n",
    "        \n",
    "        # (1, 128, 128)\n",
    "        self.encode = nn.Sequential(\n",
    "            nn.Conv2d(1, 64, 4, padding=1, stride=(2, 2)),\n",
    "            nn.ReLU(),\n",
    "            nn.BatchNorm2d(64),\n",
    "            \n",
    "            nn.Conv2d(64, 64, 4, padding=1, stride=(2, 2)),\n",
    "            nn.ReLU(),\n",
    "            nn.BatchNorm2d(64),\n",
    "            \n",
    "            nn.Conv2d(64, 128, 4, padding=1, stride=(2, 2)),\n",
    "            nn.ReLU(),\n",
    "            nn.BatchNorm2d(128),\n",
    "            \n",
    "            nn.Conv2d(128, 128, 4, padding=1, stride=(2, 2)),\n",
    "            nn.ReLU(),\n",
    "            nn.BatchNorm2d(128),\n",
    "            \n",
    "            nn.Conv2d(128, 256, 4, padding=1, stride=(2, 2)),\n",
    "            nn.ReLU(),\n",
    "            nn.BatchNorm2d(256),\n",
    "            \n",
    "            nn.Conv2d(256, 256, 4, padding=1, stride=(2, 2)),\n",
    "            nn.ReLU(),\n",
    "            nn.BatchNorm2d(256),\n",
    "            \n",
    "            nn.Conv2d(256, 512, 4, padding=1, stride=(2, 2)),\n",
    "            nn.ReLU(),\n",
    "            nn.BatchNorm2d(512),\n",
    "            \n",
    "            nn.Conv2d(512, h_dim, 1, stride=1),\n",
    "            nn.ReLU(),\n",
    "            nn.BatchNorm2d(h_dim)\n",
    "        )\n",
    "\n",
    "        self.out = nn.Linear(h_dim, n_classes, bias=True)\n",
    "        \n",
    "    def forward(self, x):\n",
    "        h = self.encode(x)\n",
    "        h = h.view(h.size(0), -1)\n",
    "        return self.out(h)"
   ]
  },
  {
   "cell_type": "code",
   "execution_count": 3,
   "metadata": {},
   "outputs": [],
   "source": [
    "if torch.cuda.is_available():  \n",
    "    device = torch.device(\"cuda:0\")\n",
    "else:  \n",
    "    device = torch.device(\"cpu\") "
   ]
  },
  {
   "cell_type": "code",
   "execution_count": 4,
   "metadata": {},
   "outputs": [],
   "source": [
    "hparams = {\n",
    "    'checkpoint' : None,\n",
    "    'feature_type' : 'mel',\n",
    "    'instrument_source' : [0],\n",
    "    'scaling' : 'normalize',\n",
    "    'resize' : (128, 128),\n",
    "    'n_epochs' : 25,\n",
    "    'batch_size' : 64,\n",
    "    'lr' : 0.001,\n",
    "    'hidden_dim' : 128,\n",
    "    'display_iters' : 100,\n",
    "    'val_iters' : 1000,\n",
    "    'n_val_samples' : 1000, \n",
    "    'n_early_stopping' : 5 # stop if validation doesn't improve after this number of validation cycles\n",
    "}"
   ]
  },
  {
   "cell_type": "code",
   "execution_count": 5,
   "metadata": {},
   "outputs": [],
   "source": [
    "train_dataset = NSynthDataset(\n",
    "    'music-ml-gigioli', \n",
    "    'data/nsynth/nsynth-train', \n",
    "    instrument_source=hparams['instrument_source'], \n",
    "    feature_type=hparams['feature_type'],\n",
    "    scaling=hparams['scaling'],\n",
    "    resize=hparams['resize'],\n",
    "    include_meta=True\n",
    ")\n",
    "\n",
    "val_dataset = NSynthDataset(\n",
    "    'music-ml-gigioli', \n",
    "    'data/nsynth/nsynth-valid', \n",
    "    instrument_source=hparams['instrument_source'], \n",
    "    feature_type=hparams['feature_type'],\n",
    "    scaling=hparams['scaling'],\n",
    "    resize=hparams['resize'],\n",
    "    include_meta=True\n",
    ")"
   ]
  },
  {
   "cell_type": "code",
   "execution_count": 6,
   "metadata": {},
   "outputs": [],
   "source": [
    "class_ctr = Counter([x['instrument_family_str'] for x in train_dataset.meta.values()])\n",
    "class_dict = dict(enumerate(sorted(class_ctr)))\n",
    "inv_class_dict = dict([(v, k) for k, v in class_dict.items()])\n",
    "class_weights = np.array([max(class_ctr.values())/class_ctr[class_dict[i]] for i in range(len(class_dict))])"
   ]
  },
  {
   "cell_type": "code",
   "execution_count": 7,
   "metadata": {},
   "outputs": [],
   "source": [
    "train_dataloader = torch.utils.data.DataLoader(train_dataset, batch_size=hparams['batch_size'], shuffle=True)\n",
    "val_dataloader = torch.utils.data.DataLoader(val_dataset, batch_size=hparams['batch_size'], shuffle=True)"
   ]
  },
  {
   "cell_type": "code",
   "execution_count": 8,
   "metadata": {},
   "outputs": [
    {
     "name": "stdout",
     "output_type": "stream",
     "text": [
      "# of parameters : 4201226\n"
     ]
    }
   ],
   "source": [
    "model = Classifier(n_classes=len(class_dict), h_dim=hparams['hidden_dim']).to(device)\n",
    "print('# of parameters : {}'.format(sum(p.numel() for p in model.parameters() if p.requires_grad)))"
   ]
  },
  {
   "cell_type": "code",
   "execution_count": 9,
   "metadata": {},
   "outputs": [],
   "source": [
    "optimizer = torch.optim.Adam(model.parameters(), lr=hparams['lr'])"
   ]
  },
  {
   "cell_type": "code",
   "execution_count": 10,
   "metadata": {},
   "outputs": [
    {
     "name": "stdout",
     "output_type": "stream",
     "text": [
      "Classifier\n"
     ]
    }
   ],
   "source": [
    "timestamp = datetime.datetime.fromtimestamp(time.time()).strftime('%Y%m%d-%H%M%S')\n",
    "results_dir = 'train_results/classifier/{}'.format(timestamp)\n",
    "os.makedirs(results_dir)\n",
    "\n",
    "with open(os.path.join(results_dir, 'hparams.json'), 'w') as fp:\n",
    "    json.dump(hparams, fp)\n",
    "\n",
    "log_file = os.path.join(results_dir, 'train_log.txt')\n",
    "log = open(log_file, 'w')\n",
    "log.close()\n",
    "print_and_log('{}'.format(model.__class__.__name__), log_file)"
   ]
  },
  {
   "cell_type": "code",
   "execution_count": null,
   "metadata": {},
   "outputs": [
    {
     "name": "stdout",
     "output_type": "stream",
     "text": [
      "[0,     1] loss : 2.6272, acc : 0.0938\n",
      "[0,   100] loss : 1.3826, acc : 0.4531\n",
      "[0,   200] loss : 0.8938, acc : 0.4531\n",
      "[0,   300] loss : 1.1787, acc : 0.6094\n",
      "[0,   400] loss : 0.8388, acc : 0.6094\n",
      "[0,   500] loss : 1.3518, acc : 0.4844\n",
      "[0,   600] loss : 0.9676, acc : 0.6406\n",
      "[0,   700] loss : 0.8798, acc : 0.6562\n",
      "[0,   800] loss : 1.1471, acc : 0.5938\n",
      "[0,   900] loss : 0.7944, acc : 0.7344\n",
      "[0,  1000] loss : 0.4441, acc : 0.6250\n",
      "Val - loss : 3.8019, acc : 0.2881\n",
      "Weights saved in train_results/classifier/20200511-195425/model-1000.weights\n",
      "[0,  1100] loss : 0.6275, acc : 0.7656\n",
      "[0,  1200] loss : 0.7075, acc : 0.7500\n",
      "[0,  1300] loss : 0.5204, acc : 0.8281\n",
      "[0,  1400] loss : 0.5890, acc : 0.7500\n",
      "[0,  1500] loss : 0.3496, acc : 0.7500\n",
      "[1,  1600] loss : 0.3784, acc : 0.8438\n",
      "[1,  1700] loss : 1.2500, acc : 0.7969\n",
      "[1,  1800] loss : 0.1448, acc : 0.8438\n",
      "[1,  1900] loss : 0.4086, acc : 0.8125\n",
      "[1,  2000] loss : 0.5806, acc : 0.7656\n",
      "Val - loss : 2.6760, acc : 0.1357\n",
      "Weights saved in train_results/classifier/20200511-195425/model-2000.weights\n",
      "[1,  2100] loss : 0.2126, acc : 0.9219\n",
      "[1,  2200] loss : 0.6059, acc : 0.7031\n",
      "[1,  2300] loss : 0.4025, acc : 0.8750\n",
      "[1,  2400] loss : 0.2696, acc : 0.8281\n",
      "[1,  2500] loss : 0.4591, acc : 0.8750\n",
      "[1,  2600] loss : 0.3953, acc : 0.7812\n",
      "[1,  2700] loss : 0.4072, acc : 0.8594\n",
      "[1,  2800] loss : 0.1581, acc : 0.8750\n",
      "[1,  2900] loss : 0.8050, acc : 0.8750\n",
      "[1,  3000] loss : 0.0863, acc : 0.9062\n",
      "Val - loss : 7.1182, acc : 0.2295\n",
      "[1,  3100] loss : 0.2824, acc : 0.8594\n",
      "[2,  3200] loss : 0.3933, acc : 0.8594\n",
      "[2,  3300] loss : 0.1597, acc : 0.9219\n",
      "[2,  3400] loss : 0.1115, acc : 0.9219\n",
      "[2,  3500] loss : 0.2434, acc : 0.9219\n",
      "[2,  3600] loss : 0.0831, acc : 0.8906\n",
      "[2,  3700] loss : 0.1192, acc : 0.8906\n",
      "[2,  3800] loss : 0.0323, acc : 1.0000\n"
     ]
    }
   ],
   "source": [
    "loss_fn = nn.CrossEntropyLoss(weight=torch.tensor(class_weights, dtype=torch.float32))\n",
    "\n",
    "ckpt_weights_path = None\n",
    "best_loss = 1e10\n",
    "since_best = 0\n",
    "done = False\n",
    "\n",
    "if hparams['checkpoint']:\n",
    "    print_and_log('Resuming training from {}'.format(hparams['checkpoint']), log_file)\n",
    "    ckpt = torch.load(hparams['checkpoint'])\n",
    "    epoch = ckpt['epoch']\n",
    "    itr = ckpt['itr']\n",
    "    optimizer.load_state_dict(ckpt['optimizer'])\n",
    "    model.load_state_dict(ckpt['model'])\n",
    "    best_loss = ckpt['best_loss']\n",
    "else:\n",
    "    epoch = 0\n",
    "    itr = 0\n",
    "\n",
    "for epoch in range(epoch, hparams['n_epochs']):\n",
    "    if done:\n",
    "        break\n",
    "        \n",
    "    for batch in train_dataloader:\n",
    "        if done:\n",
    "            break\n",
    "            \n",
    "        itr += 1\n",
    "        features = batch[0].unsqueeze(1)\n",
    "        labels = torch.tensor([inv_class_dict[i] for i in batch[1]['instrument_family_str']], dtype=torch.long)\n",
    "        outputs = model(features)\n",
    "        \n",
    "        loss = loss_fn(outputs, labels)\n",
    "        optimizer.zero_grad()\n",
    "        loss.backward()\n",
    "        optimizer.step()\n",
    "        \n",
    "        if (itr % hparams['display_iters'] == 0) or (itr == 1):\n",
    "            acc = (outputs.argmax(-1) == labels).float().mean()\n",
    "            print_and_log('[{}, {:5d}] loss : {:.4f}, acc : {:.4f}'.format(epoch, itr, loss.item(), acc.item()), log_file)\n",
    "            \n",
    "        if itr % hparams['val_iters'] == 0:\n",
    "            val_dataloader = torch.utils.data.DataLoader(val_dataset, batch_size=hparams['batch_size'], shuffle=True)\n",
    "            \n",
    "            model.eval()\n",
    "            \n",
    "            ct, i, val_loss, val_acc = 0, 0, 0.0, 0.0\n",
    "            for batch in val_dataloader:\n",
    "                i += 1\n",
    "                ct += batch[0].size(0)\n",
    "                features = batch[0].unsqueeze(1)\n",
    "                labels = torch.tensor([inv_class_dict[i] for i in batch[1]['instrument_family_str']], dtype=torch.long)\n",
    "                outputs = model(features)\n",
    "                \n",
    "                loss = loss_fn(outputs, labels)\n",
    "                acc = (outputs.argmax(-1) == labels).float().mean()\n",
    "                \n",
    "                val_loss += (loss.item() - val_loss)/i\n",
    "                val_acc += (acc.item() - val_acc)/i\n",
    "                \n",
    "                if ct >= hparams['n_val_samples']:\n",
    "                    break\n",
    "                \n",
    "            print_and_log('Val - loss : {:.4f}, acc : {:.4f}'.format(val_loss, val_acc), log_file)\n",
    "            \n",
    "            if val_loss < best_loss:\n",
    "                since_best = 0\n",
    "                best_loss = val_loss\n",
    "                \n",
    "                # save weights\n",
    "                if ckpt_weights_path:\n",
    "                    os.remove(ckpt_weights_path)\n",
    "                ckpt_weights_path = os.path.join(results_dir, 'model-{}.weights'.format(itr))\n",
    "                torch.save(model.state_dict(), ckpt_weights_path)\n",
    "                print_and_log('Weights saved in {}'.format(ckpt_weights_path), log_file)\n",
    "                \n",
    "                # save meta information\n",
    "                ckpt_meta_path = os.path.join(results_dir, 'checkpoint')\n",
    "                torch.save({\n",
    "                    'best_loss' : best_loss,\n",
    "                    'epoch' : epoch,\n",
    "                    'itr' : itr,\n",
    "                    'optimizer' : optimizer.state_dict(),\n",
    "                    'model' : model.state_dict()\n",
    "                }, ckpt_meta_path)\n",
    "            else:\n",
    "                since_best += 1\n",
    "                if since_best >= hparams['n_early_stopping']:\n",
    "                    done = True\n",
    "                    print_and_log('Early stopping... training complete', log_file)\n",
    "            \n",
    "            model.train()"
   ]
  },
  {
   "cell_type": "code",
   "execution_count": null,
   "metadata": {},
   "outputs": [],
   "source": []
  },
  {
   "cell_type": "code",
   "execution_count": null,
   "metadata": {},
   "outputs": [],
   "source": []
  }
 ],
 "metadata": {
  "kernelspec": {
   "display_name": "conda_pytorch_p36",
   "language": "python",
   "name": "conda_pytorch_p36"
  },
  "language_info": {
   "codemirror_mode": {
    "name": "ipython",
    "version": 3
   },
   "file_extension": ".py",
   "mimetype": "text/x-python",
   "name": "python",
   "nbconvert_exporter": "python",
   "pygments_lexer": "ipython3",
   "version": "3.6.5"
  }
 },
 "nbformat": 4,
 "nbformat_minor": 4
}
