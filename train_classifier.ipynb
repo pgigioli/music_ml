{
 "cells": [
  {
   "cell_type": "code",
   "execution_count": 1,
   "metadata": {},
   "outputs": [
    {
     "name": "stderr",
     "output_type": "stream",
     "text": [
      "/opt/conda/lib/python3.6/site-packages/librosa/util/decorators.py:9: NumbaDeprecationWarning: An import was requested from a module that has moved location.\n",
      "Import of 'jit' requested from: 'numba.decorators', please update to use 'numba.core.decorators' or pin to Numba version 0.48.0. This alias will not be present in Numba version 0.50.0.\n",
      "  from numba.decorators import jit as optional_jit\n"
     ]
    }
   ],
   "source": [
    "import torch\n",
    "import torch.nn as nn\n",
    "import torch.nn.functional as F\n",
    "import numpy as np\n",
    "from collections import Counter\n",
    "import datetime\n",
    "import time\n",
    "import os\n",
    "import json\n",
    "\n",
    "from src.data import NSynthDataset\n",
    "from src.utils import print_and_log\n",
    "from src.models import Classifier"
   ]
  },
  {
   "cell_type": "code",
   "execution_count": 2,
   "metadata": {},
   "outputs": [],
   "source": [
    "if torch.cuda.is_available():  \n",
    "    device = torch.device(\"cuda:0\")\n",
    "else:  \n",
    "    device = torch.device(\"cpu\") "
   ]
  },
  {
   "cell_type": "code",
   "execution_count": 3,
   "metadata": {},
   "outputs": [],
   "source": [
    "hparams = {\n",
    "    'checkpoint' : None,\n",
    "    'instrument_source' : [0, 1, 2],\n",
    "    'sample_rate' : 16000,\n",
    "    'n_samples' : 64000,\n",
    "    'feature_type' : 'mel',\n",
    "    'random_crop' : True,\n",
    "    'resize' : None,\n",
    "    'normalize' : True,\n",
    "    'standardize' : True,\n",
    "    'standardize_mean' : 0.3356,\n",
    "    'standardize_std' : 0.2212,\n",
    "    'spec_augment' : True,\n",
    "    'remove_synth_lead' : True,\n",
    "    'n_samples_per_class' : None,\n",
    "    'n_epochs' : 50,\n",
    "    'batch_size' : 32,\n",
    "    'lr' : 0.00001,\n",
    "    'hidden_dim' : 512,\n",
    "    'display_iters' : 100,\n",
    "    'val_iters' : 1000,\n",
    "    'n_val_samples' : 1000, \n",
    "    'n_early_stopping' : 5 # stop if validation doesn't improve after this number of validation cycles\n",
    "}"
   ]
  },
  {
   "cell_type": "code",
   "execution_count": 4,
   "metadata": {},
   "outputs": [],
   "source": [
    "train_dataset = NSynthDataset(\n",
    "    'data/nsynth/nsynth-train', \n",
    "    include_meta=True, \n",
    "    instrument_source=hparams['instrument_source'], \n",
    "    sample_rate=hparams['sample_rate'], \n",
    "    n_samples=hparams['n_samples'], \n",
    "    feature_type=hparams['feature_type'], \n",
    "    random_crop=hparams['random_crop'], \n",
    "    resize=hparams['resize'], \n",
    "    normalize=hparams['normalize'], \n",
    "    standardize=hparams['standardize'], \n",
    "    standardize_mean=hparams['standardize_mean'], \n",
    "    standardize_std=hparams['standardize_std'], \n",
    "    spec_augment=hparams['spec_augment'],\n",
    "    remove_synth_lead=hparams['remove_synth_lead'], \n",
    "    n_samples_per_class=hparams['n_samples_per_class']\n",
    ")\n",
    "\n",
    "val_dataset = NSynthDataset(\n",
    "    'data/nsynth/nsynth-valid', \n",
    "    include_meta=True, \n",
    "    instrument_source=hparams['instrument_source'], \n",
    "    sample_rate=hparams['sample_rate'], \n",
    "    n_samples=hparams['n_samples'], \n",
    "    feature_type=hparams['feature_type'], \n",
    "    random_crop=hparams['random_crop'], \n",
    "    resize=hparams['resize'], \n",
    "    normalize=hparams['normalize'], \n",
    "    standardize=hparams['standardize'], \n",
    "    standardize_mean=hparams['standardize_mean'], \n",
    "    standardize_std=hparams['standardize_std'], \n",
    "    remove_synth_lead=hparams['remove_synth_lead']\n",
    ")"
   ]
  },
  {
   "cell_type": "code",
   "execution_count": 5,
   "metadata": {},
   "outputs": [],
   "source": [
    "class_ctr = Counter([x['instrument_family_str'] for x in train_dataset.meta.values()])\n",
    "class_dict = dict(enumerate(sorted(class_ctr)))\n",
    "inv_class_dict = dict([(v, k) for k, v in class_dict.items()])\n",
    "class_weights = np.array([max(class_ctr.values())/class_ctr[class_dict[i]] for i in range(len(class_dict))])\n",
    "\n",
    "sample_weights = [max(class_ctr.values())/class_ctr[train_dataset.meta[f]['instrument_family_str']] for f in train_dataset.files]\n",
    "sampler = torch.utils.data.sampler.WeightedRandomSampler(sample_weights, len(sample_weights))"
   ]
  },
  {
   "cell_type": "code",
   "execution_count": 6,
   "metadata": {},
   "outputs": [
    {
     "data": {
      "text/plain": [
       "Counter({'guitar': 32690,\n",
       "         'bass': 65474,\n",
       "         'organ': 34477,\n",
       "         'keyboard': 51821,\n",
       "         'vocal': 10208,\n",
       "         'string': 19474,\n",
       "         'reed': 13911,\n",
       "         'flute': 8773,\n",
       "         'mallet': 34201,\n",
       "         'brass': 12675})"
      ]
     },
     "execution_count": 6,
     "metadata": {},
     "output_type": "execute_result"
    }
   ],
   "source": [
    "class_ctr"
   ]
  },
  {
   "cell_type": "code",
   "execution_count": 7,
   "metadata": {},
   "outputs": [],
   "source": [
    "train_dataloader = torch.utils.data.DataLoader(train_dataset, batch_size=hparams['batch_size'], sampler=sampler)\n",
    "val_dataloader = torch.utils.data.DataLoader(val_dataset, batch_size=hparams['batch_size'], shuffle=True)"
   ]
  },
  {
   "cell_type": "code",
   "execution_count": 8,
   "metadata": {},
   "outputs": [
    {
     "name": "stdout",
     "output_type": "stream",
     "text": [
      "# of parameters : 2332554\n"
     ]
    }
   ],
   "source": [
    "model = Classifier(n_classes=len(class_dict), h_dim=hparams['hidden_dim']).to(device)\n",
    "print('# of parameters : {}'.format(sum(p.numel() for p in model.parameters() if p.requires_grad)))"
   ]
  },
  {
   "cell_type": "code",
   "execution_count": 9,
   "metadata": {},
   "outputs": [],
   "source": [
    "optimizer = torch.optim.Adam(model.parameters(), lr=hparams['lr'])"
   ]
  },
  {
   "cell_type": "code",
   "execution_count": 10,
   "metadata": {},
   "outputs": [
    {
     "name": "stdout",
     "output_type": "stream",
     "text": [
      "Classifier\n"
     ]
    }
   ],
   "source": [
    "timestamp = datetime.datetime.fromtimestamp(time.time()).strftime('%Y%m%d-%H%M%S')\n",
    "results_dir = 'train_results/classifier/{}'.format(timestamp)\n",
    "os.makedirs(results_dir)\n",
    "\n",
    "with open(os.path.join(results_dir, 'hparams.json'), 'w') as fp:\n",
    "    json.dump(hparams, fp)\n",
    "\n",
    "log_file = os.path.join(results_dir, 'train_log.txt')\n",
    "log = open(log_file, 'w')\n",
    "log.close()\n",
    "print_and_log('{}'.format(model.__class__.__name__), log_file)"
   ]
  },
  {
   "cell_type": "code",
   "execution_count": null,
   "metadata": {},
   "outputs": [
    {
     "name": "stdout",
     "output_type": "stream",
     "text": [
      "[0,     1] loss : 2.3527, acc : 0.0938\n",
      "[0,   100] loss : 1.8100, acc : 0.4375\n",
      "[0,   200] loss : 1.6424, acc : 0.4375\n",
      "[0,   300] loss : 1.6671, acc : 0.4062\n",
      "[0,   400] loss : 1.7123, acc : 0.4375\n",
      "[0,   500] loss : 1.4755, acc : 0.4688\n",
      "[0,   600] loss : 1.4898, acc : 0.4688\n",
      "[0,   700] loss : 1.1014, acc : 0.7188\n",
      "[0,   800] loss : 1.2551, acc : 0.5312\n",
      "[0,   900] loss : 1.0926, acc : 0.6562\n",
      "[0,  1000] loss : 1.2030, acc : 0.5312\n",
      "[0,  1100] loss : 1.1921, acc : 0.6250\n",
      "[0,  1200] loss : 0.9038, acc : 0.6875\n",
      "[0,  1300] loss : 0.7921, acc : 0.7188\n",
      "[0,  1400] loss : 0.9954, acc : 0.6875\n",
      "[0,  1500] loss : 0.8063, acc : 0.7812\n",
      "[0,  1600] loss : 0.8207, acc : 0.7188\n",
      "[0,  1700] loss : 0.7584, acc : 0.6875\n",
      "[0,  1800] loss : 1.0991, acc : 0.6250\n",
      "[0,  1900] loss : 0.7883, acc : 0.7500\n",
      "[0,  2000] loss : 0.9307, acc : 0.6562\n",
      "[0,  2100] loss : 0.6917, acc : 0.7500\n",
      "[0,  2200] loss : 0.7941, acc : 0.6875\n",
      "[0,  2300] loss : 0.7659, acc : 0.8125\n",
      "[0,  2400] loss : 0.7893, acc : 0.8125\n",
      "[0,  2500] loss : 0.7952, acc : 0.6250\n",
      "[0,  2600] loss : 0.6266, acc : 0.9062\n",
      "[0,  2700] loss : 0.7849, acc : 0.8125\n",
      "[0,  2800] loss : 0.7927, acc : 0.7500\n",
      "[0,  2900] loss : 0.6531, acc : 0.7812\n",
      "[0,  3000] loss : 0.6785, acc : 0.9062\n",
      "[0,  3100] loss : 0.8618, acc : 0.7812\n"
     ]
    }
   ],
   "source": [
    "#loss_fn = nn.CrossEntropyLoss(weight=torch.tensor(class_weights, dtype=torch.float32, device=device))\n",
    "loss_fn = nn.CrossEntropyLoss()\n",
    "\n",
    "ckpt_weights_path = None\n",
    "best_loss = 1e10\n",
    "since_best = 0\n",
    "done = False\n",
    "\n",
    "if hparams['checkpoint']:\n",
    "    print_and_log('Resuming training from {}'.format(hparams['checkpoint']), log_file)\n",
    "    ckpt = torch.load(hparams['checkpoint'])\n",
    "    epoch = ckpt['epoch']\n",
    "    itr = ckpt['itr']\n",
    "    optimizer.load_state_dict(ckpt['optimizer'])\n",
    "    model.load_state_dict(ckpt['model'])\n",
    "    best_loss = ckpt['best_loss']\n",
    "else:\n",
    "    epoch = 0\n",
    "    itr = 0\n",
    "\n",
    "for epoch in range(epoch, hparams['n_epochs']):\n",
    "    if done:\n",
    "        break\n",
    "        \n",
    "    for batch in train_dataloader:\n",
    "        if done:\n",
    "            break\n",
    "            \n",
    "        itr += 1\n",
    "        features = batch[0].to(device)\n",
    "        labels = torch.tensor([inv_class_dict[i] for i in batch[1]['instrument_family_str']], \n",
    "                              dtype=torch.long, device=device)\n",
    "        outputs = model(features)\n",
    "        \n",
    "        loss = loss_fn(outputs, labels)\n",
    "        optimizer.zero_grad()\n",
    "        loss.backward()\n",
    "        optimizer.step()\n",
    "        \n",
    "        if (itr % hparams['display_iters'] == 0) or (itr == 1):\n",
    "            acc = (outputs.argmax(-1) == labels).float().mean()\n",
    "            print_and_log('[{}, {:5d}] loss : {:.4f}, acc : {:.4f}'.format(epoch, itr, loss.item(), acc.item()), log_file)\n",
    "            \n",
    "    model.eval()\n",
    "    with torch.no_grad():\n",
    "        ct, i, val_loss, val_acc = 0, 0, 0.0, 0.0\n",
    "        for batch in val_dataloader:\n",
    "            i += 1\n",
    "            ct += batch[0].size(0)\n",
    "            features = batch[0].to(device)\n",
    "            labels = torch.tensor([inv_class_dict[i] for i in batch[1]['instrument_family_str']], \n",
    "                                  dtype=torch.long, device=device)\n",
    "            outputs = model(features)\n",
    "\n",
    "            loss = loss_fn(outputs, labels)\n",
    "            acc = (outputs.argmax(-1) == labels).float().mean()\n",
    "\n",
    "            val_loss += (loss.item() - val_loss)/i\n",
    "            val_acc += (acc.item() - val_acc)/i\n",
    "\n",
    "            if ct >= hparams['n_val_samples']:\n",
    "                break\n",
    "\n",
    "    print_and_log('Val - loss : {:.4f}, acc : {:.4f}'.format(val_loss, val_acc), log_file)\n",
    "\n",
    "    if val_loss < best_loss:\n",
    "        since_best = 0\n",
    "        best_loss = val_loss\n",
    "\n",
    "        # save weights\n",
    "        ckpt_weights_path = os.path.join(results_dir, 'model-{}.weights'.format(itr))\n",
    "        torch.save(model.state_dict(), ckpt_weights_path)\n",
    "        print_and_log('Weights saved in {}'.format(ckpt_weights_path), log_file)\n",
    "\n",
    "        # save meta information\n",
    "        ckpt_meta_path = os.path.join(results_dir, 'checkpoint')\n",
    "        torch.save({\n",
    "            'best_loss' : best_loss,\n",
    "            'epoch' : epoch,\n",
    "            'itr' : itr,\n",
    "            'optimizer' : optimizer.state_dict(),\n",
    "            'model' : model.state_dict()\n",
    "        }, ckpt_meta_path)\n",
    "    else:\n",
    "        since_best += 1\n",
    "        if since_best >= hparams['n_early_stopping']:\n",
    "            done = True\n",
    "            print_and_log('Early stopping... training complete', log_file)\n",
    "\n",
    "    model.train()"
   ]
  },
  {
   "cell_type": "code",
   "execution_count": null,
   "metadata": {},
   "outputs": [],
   "source": []
  },
  {
   "cell_type": "code",
   "execution_count": null,
   "metadata": {},
   "outputs": [],
   "source": []
  }
 ],
 "metadata": {
  "kernelspec": {
   "display_name": "Python 3",
   "language": "python",
   "name": "python3"
  },
  "language_info": {
   "codemirror_mode": {
    "name": "ipython",
    "version": 3
   },
   "file_extension": ".py",
   "mimetype": "text/x-python",
   "name": "python",
   "nbconvert_exporter": "python",
   "pygments_lexer": "ipython3",
   "version": "3.6.9"
  }
 },
 "nbformat": 4,
 "nbformat_minor": 4
}
