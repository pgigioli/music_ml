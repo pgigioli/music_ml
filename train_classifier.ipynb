{
 "cells": [
  {
   "cell_type": "code",
   "execution_count": 1,
   "metadata": {},
   "outputs": [
    {
     "name": "stderr",
     "output_type": "stream",
     "text": [
      "/opt/conda/lib/python3.6/site-packages/librosa/util/decorators.py:9: NumbaDeprecationWarning: An import was requested from a module that has moved location.\n",
      "Import of 'jit' requested from: 'numba.decorators', please update to use 'numba.core.decorators' or pin to Numba version 0.48.0. This alias will not be present in Numba version 0.50.0.\n",
      "  from numba.decorators import jit as optional_jit\n"
     ]
    }
   ],
   "source": [
    "import torch\n",
    "import torch.nn as nn\n",
    "import torch.nn.functional as F\n",
    "import numpy as np\n",
    "from collections import Counter\n",
    "import datetime\n",
    "import time\n",
    "import os\n",
    "import json\n",
    "\n",
    "from src.data import NSynthDataset\n",
    "from src.utils import print_and_log\n",
    "from src.models import Classifier"
   ]
  },
  {
   "cell_type": "code",
   "execution_count": 2,
   "metadata": {},
   "outputs": [],
   "source": [
    "if torch.cuda.is_available():  \n",
    "    device = torch.device(\"cuda:0\")\n",
    "else:  \n",
    "    device = torch.device(\"cpu\") "
   ]
  },
  {
   "cell_type": "code",
   "execution_count": 3,
   "metadata": {},
   "outputs": [],
   "source": [
    "hparams = {\n",
    "    'checkpoint' : None,\n",
    "    'feature_type' : 'mel',\n",
    "    'instrument_source' : [0, 1, 2],\n",
    "    'remove_synth_lead' : True,\n",
    "    'scaling' : 'normalize',\n",
    "    'resize' : (128, 128),\n",
    "    'n_samples_per_class' : None,\n",
    "    'n_epochs' : 25,\n",
    "    'batch_size' : 64,\n",
    "    'lr' : 0.00005,\n",
    "    'hidden_dim' : 128,\n",
    "    'display_iters' : 100,\n",
    "    'val_iters' : 1000,\n",
    "    'n_val_samples' : 1000, \n",
    "    'n_early_stopping' : 5 # stop if validation doesn't improve after this number of validation cycles\n",
    "}"
   ]
  },
  {
   "cell_type": "code",
   "execution_count": 4,
   "metadata": {},
   "outputs": [],
   "source": [
    "train_dataset = NSynthDataset(\n",
    "    'data/nsynth/nsynth-train', \n",
    "    instrument_source=hparams['instrument_source'], \n",
    "    feature_type=hparams['feature_type'],\n",
    "    scaling=hparams['scaling'],\n",
    "    resize=hparams['resize'],\n",
    "    include_meta=True,\n",
    "    remove_synth_lead=hparams['remove_synth_lead'],\n",
    "    n_samples_per_class=hparams['n_samples_per_class']\n",
    ")\n",
    "\n",
    "val_dataset = NSynthDataset(\n",
    "    'data/nsynth/nsynth-valid', \n",
    "    instrument_source=hparams['instrument_source'], \n",
    "    feature_type=hparams['feature_type'],\n",
    "    scaling=hparams['scaling'],\n",
    "    resize=hparams['resize'],\n",
    "    include_meta=True,\n",
    "    remove_synth_lead=hparams['remove_synth_lead']\n",
    ")"
   ]
  },
  {
   "cell_type": "code",
   "execution_count": 5,
   "metadata": {},
   "outputs": [],
   "source": [
    "class_ctr = Counter([x['instrument_family_str'] for x in train_dataset.meta.values()])\n",
    "class_dict = dict(enumerate(sorted(class_ctr)))\n",
    "inv_class_dict = dict([(v, k) for k, v in class_dict.items()])\n",
    "class_weights = np.array([max(class_ctr.values())/class_ctr[class_dict[i]] for i in range(len(class_dict))])"
   ]
  },
  {
   "cell_type": "code",
   "execution_count": 6,
   "metadata": {},
   "outputs": [
    {
     "data": {
      "text/plain": [
       "Counter({'guitar': 32690,\n",
       "         'bass': 65474,\n",
       "         'organ': 34477,\n",
       "         'keyboard': 51821,\n",
       "         'vocal': 10208,\n",
       "         'string': 19474,\n",
       "         'reed': 13911,\n",
       "         'flute': 8773,\n",
       "         'mallet': 34201,\n",
       "         'brass': 12675})"
      ]
     },
     "execution_count": 6,
     "metadata": {},
     "output_type": "execute_result"
    }
   ],
   "source": [
    "class_ctr"
   ]
  },
  {
   "cell_type": "code",
   "execution_count": 7,
   "metadata": {},
   "outputs": [],
   "source": [
    "train_dataloader = torch.utils.data.DataLoader(train_dataset, batch_size=hparams['batch_size'], shuffle=True)\n",
    "val_dataloader = torch.utils.data.DataLoader(val_dataset, batch_size=hparams['batch_size'], shuffle=True)"
   ]
  },
  {
   "cell_type": "code",
   "execution_count": 8,
   "metadata": {},
   "outputs": [
    {
     "name": "stdout",
     "output_type": "stream",
     "text": [
      "# of parameters : 4201226\n"
     ]
    }
   ],
   "source": [
    "model = Classifier(n_classes=len(class_dict), h_dim=hparams['hidden_dim']).to(device)\n",
    "print('# of parameters : {}'.format(sum(p.numel() for p in model.parameters() if p.requires_grad)))"
   ]
  },
  {
   "cell_type": "code",
   "execution_count": 9,
   "metadata": {},
   "outputs": [],
   "source": [
    "optimizer = torch.optim.Adam(model.parameters(), lr=hparams['lr'])"
   ]
  },
  {
   "cell_type": "code",
   "execution_count": 10,
   "metadata": {},
   "outputs": [
    {
     "name": "stdout",
     "output_type": "stream",
     "text": [
      "Classifier\n"
     ]
    }
   ],
   "source": [
    "timestamp = datetime.datetime.fromtimestamp(time.time()).strftime('%Y%m%d-%H%M%S')\n",
    "results_dir = 'train_results/classifier/{}'.format(timestamp)\n",
    "os.makedirs(results_dir)\n",
    "\n",
    "with open(os.path.join(results_dir, 'hparams.json'), 'w') as fp:\n",
    "    json.dump(hparams, fp)\n",
    "\n",
    "log_file = os.path.join(results_dir, 'train_log.txt')\n",
    "log = open(log_file, 'w')\n",
    "log.close()\n",
    "print_and_log('{}'.format(model.__class__.__name__), log_file)"
   ]
  },
  {
   "cell_type": "code",
   "execution_count": 11,
   "metadata": {},
   "outputs": [
    {
     "name": "stdout",
     "output_type": "stream",
     "text": [
      "[0,     1] loss : 2.2936, acc : 0.1406\n",
      "[0,   100] loss : 1.9270, acc : 0.2656\n",
      "[0,   200] loss : 1.7564, acc : 0.4062\n",
      "[0,   300] loss : 1.4523, acc : 0.5000\n",
      "[0,   400] loss : 1.5935, acc : 0.3906\n",
      "[0,   500] loss : 1.7351, acc : 0.3438\n",
      "[0,   600] loss : 1.4725, acc : 0.3750\n",
      "[0,   700] loss : 1.1675, acc : 0.6250\n",
      "[0,   800] loss : 1.4930, acc : 0.4531\n",
      "[0,   900] loss : 1.1302, acc : 0.5156\n",
      "[0,  1000] loss : 1.2404, acc : 0.4844\n",
      "Val - loss : 1.8578, acc : 0.2871\n",
      "Weights saved in train_results/classifier/20200602-221256/model-1000.weights\n",
      "[0,  1100] loss : 1.6130, acc : 0.4688\n",
      "[0,  1200] loss : 1.0263, acc : 0.6094\n",
      "[0,  1300] loss : 1.1014, acc : 0.5469\n",
      "[0,  1400] loss : 1.0357, acc : 0.5312\n",
      "[0,  1500] loss : 1.1779, acc : 0.5938\n",
      "[0,  1600] loss : 0.8003, acc : 0.6250\n",
      "[0,  1700] loss : 0.9191, acc : 0.6250\n",
      "[0,  1800] loss : 1.0730, acc : 0.5938\n",
      "[0,  1900] loss : 0.7761, acc : 0.7656\n",
      "[0,  2000] loss : 0.9464, acc : 0.6406\n",
      "Val - loss : 1.2847, acc : 0.5039\n",
      "Weights saved in train_results/classifier/20200602-221256/model-2000.weights\n",
      "[0,  2100] loss : 0.9596, acc : 0.6719\n",
      "[0,  2200] loss : 0.7835, acc : 0.7188\n",
      "[0,  2300] loss : 0.7758, acc : 0.7188\n",
      "[0,  2400] loss : 0.9311, acc : 0.7031\n",
      "[0,  2500] loss : 0.8093, acc : 0.6250\n",
      "[0,  2600] loss : 0.8342, acc : 0.6406\n",
      "[0,  2700] loss : 0.8333, acc : 0.6875\n",
      "[0,  2800] loss : 0.5856, acc : 0.8125\n",
      "[0,  2900] loss : 0.8493, acc : 0.7031\n",
      "[0,  3000] loss : 0.7088, acc : 0.6875\n",
      "Val - loss : 2.5700, acc : 0.2314\n",
      "[0,  3100] loss : 0.5932, acc : 0.7031\n",
      "[0,  3200] loss : 0.6068, acc : 0.7812\n",
      "[0,  3300] loss : 0.7015, acc : 0.7656\n",
      "[0,  3400] loss : 0.5167, acc : 0.7344\n",
      "[0,  3500] loss : 0.6957, acc : 0.7031\n",
      "[0,  3600] loss : 0.6107, acc : 0.7812\n",
      "[0,  3700] loss : 0.6955, acc : 0.7031\n",
      "[0,  3800] loss : 0.3300, acc : 0.8750\n",
      "[0,  3900] loss : 0.5327, acc : 0.8125\n",
      "[0,  4000] loss : 0.3998, acc : 0.8125\n",
      "Val - loss : 1.0746, acc : 0.6270\n",
      "Weights saved in train_results/classifier/20200602-221256/model-4000.weights\n",
      "[0,  4100] loss : 0.5636, acc : 0.8594\n",
      "[0,  4200] loss : 0.3935, acc : 0.8281\n",
      "[0,  4300] loss : 0.4547, acc : 0.7812\n",
      "[0,  4400] loss : 0.5010, acc : 0.7656\n",
      "[1,  4500] loss : 0.4110, acc : 0.8438\n",
      "[1,  4600] loss : 0.4987, acc : 0.7969\n",
      "[1,  4700] loss : 0.3637, acc : 0.8438\n",
      "[1,  4800] loss : 0.4777, acc : 0.8594\n",
      "[1,  4900] loss : 0.3986, acc : 0.7656\n",
      "[1,  5000] loss : 0.3851, acc : 0.8750\n",
      "Val - loss : 2.2946, acc : 0.3340\n",
      "[1,  5100] loss : 0.2583, acc : 0.9219\n",
      "[1,  5200] loss : 0.3207, acc : 0.8750\n",
      "[1,  5300] loss : 0.3433, acc : 0.8281\n",
      "[1,  5400] loss : 0.3845, acc : 0.8594\n",
      "[1,  5500] loss : 0.2223, acc : 0.8750\n",
      "[1,  5600] loss : 0.3819, acc : 0.9062\n",
      "[1,  5700] loss : 0.3919, acc : 0.8438\n",
      "[1,  5800] loss : 0.3408, acc : 0.8594\n",
      "[1,  5900] loss : 0.2034, acc : 0.9062\n",
      "[1,  6000] loss : 0.2563, acc : 0.8750\n",
      "Val - loss : 2.5577, acc : 0.3145\n",
      "[1,  6100] loss : 0.3887, acc : 0.8594\n",
      "[1,  6200] loss : 0.2695, acc : 0.8906\n",
      "[1,  6300] loss : 0.3263, acc : 0.8750\n",
      "[1,  6400] loss : 0.2419, acc : 0.9062\n",
      "[1,  6500] loss : 0.2782, acc : 0.8750\n",
      "[1,  6600] loss : 0.3489, acc : 0.8750\n",
      "[1,  6700] loss : 0.1894, acc : 0.9375\n",
      "[1,  6800] loss : 0.2697, acc : 0.8750\n",
      "[1,  6900] loss : 0.1802, acc : 0.9375\n",
      "[1,  7000] loss : 0.1955, acc : 0.8906\n",
      "Val - loss : 1.1069, acc : 0.6572\n",
      "[1,  7100] loss : 0.3979, acc : 0.8438\n",
      "[1,  7200] loss : 0.1237, acc : 0.9531\n",
      "[1,  7300] loss : 0.2040, acc : 0.9375\n",
      "[1,  7400] loss : 0.2079, acc : 0.9219\n",
      "[1,  7500] loss : 0.2275, acc : 0.8906\n",
      "[1,  7600] loss : 0.1517, acc : 0.9531\n",
      "[1,  7700] loss : 0.4327, acc : 0.8438\n",
      "[1,  7800] loss : 0.2091, acc : 0.9219\n",
      "[1,  7900] loss : 0.2339, acc : 0.9375\n",
      "[1,  8000] loss : 0.1141, acc : 0.9844\n",
      "Val - loss : 1.3965, acc : 0.5459\n",
      "[1,  8100] loss : 0.2970, acc : 0.8750\n",
      "[1,  8200] loss : 0.2612, acc : 0.9062\n",
      "[1,  8300] loss : 0.2197, acc : 0.9062\n",
      "[1,  8400] loss : 0.1378, acc : 0.9531\n",
      "[1,  8500] loss : 0.1703, acc : 0.9531\n",
      "[1,  8600] loss : 0.1849, acc : 0.9062\n",
      "[1,  8700] loss : 0.1498, acc : 0.9688\n",
      "[1,  8800] loss : 0.1233, acc : 0.9688\n",
      "[2,  8900] loss : 0.1984, acc : 0.9062\n",
      "[2,  9000] loss : 0.2107, acc : 0.9375\n",
      "Val - loss : 1.6772, acc : 0.5518\n",
      "Early stopping... training complete\n"
     ]
    }
   ],
   "source": [
    "loss_fn = nn.CrossEntropyLoss(weight=torch.tensor(class_weights, dtype=torch.float32, device=device))\n",
    "\n",
    "ckpt_weights_path = None\n",
    "best_loss = 1e10\n",
    "since_best = 0\n",
    "done = False\n",
    "\n",
    "if hparams['checkpoint']:\n",
    "    print_and_log('Resuming training from {}'.format(hparams['checkpoint']), log_file)\n",
    "    ckpt = torch.load(hparams['checkpoint'])\n",
    "    epoch = ckpt['epoch']\n",
    "    itr = ckpt['itr']\n",
    "    optimizer.load_state_dict(ckpt['optimizer'])\n",
    "    model.load_state_dict(ckpt['model'])\n",
    "    best_loss = ckpt['best_loss']\n",
    "else:\n",
    "    epoch = 0\n",
    "    itr = 0\n",
    "\n",
    "for epoch in range(epoch, hparams['n_epochs']):\n",
    "    if done:\n",
    "        break\n",
    "        \n",
    "    for batch in train_dataloader:\n",
    "        if done:\n",
    "            break\n",
    "            \n",
    "        itr += 1\n",
    "        features = batch[0].unsqueeze(1).to(device)\n",
    "        labels = torch.tensor([inv_class_dict[i] for i in batch[1]['instrument_family_str']], \n",
    "                              dtype=torch.long, device=device)\n",
    "        outputs = model(features)\n",
    "        \n",
    "        loss = loss_fn(outputs, labels)\n",
    "        optimizer.zero_grad()\n",
    "        loss.backward()\n",
    "        optimizer.step()\n",
    "        \n",
    "        if (itr % hparams['display_iters'] == 0) or (itr == 1):\n",
    "            acc = (outputs.argmax(-1) == labels).float().mean()\n",
    "            print_and_log('[{}, {:5d}] loss : {:.4f}, acc : {:.4f}'.format(epoch, itr, loss.item(), acc.item()), log_file)\n",
    "            \n",
    "        if itr % hparams['val_iters'] == 0:\n",
    "            model.eval()\n",
    "            \n",
    "            ct, i, val_loss, val_acc = 0, 0, 0.0, 0.0\n",
    "            for batch in val_dataloader:\n",
    "                i += 1\n",
    "                ct += batch[0].size(0)\n",
    "                features = batch[0].unsqueeze(1).to(device)\n",
    "                labels = torch.tensor([inv_class_dict[i] for i in batch[1]['instrument_family_str']], \n",
    "                                      dtype=torch.long, device=device)\n",
    "                outputs = model(features)\n",
    "                \n",
    "                loss = loss_fn(outputs, labels)\n",
    "                acc = (outputs.argmax(-1) == labels).float().mean()\n",
    "                \n",
    "                val_loss += (loss.item() - val_loss)/i\n",
    "                val_acc += (acc.item() - val_acc)/i\n",
    "                \n",
    "                if ct >= hparams['n_val_samples']:\n",
    "                    break\n",
    "                \n",
    "            print_and_log('Val - loss : {:.4f}, acc : {:.4f}'.format(val_loss, val_acc), log_file)\n",
    "            \n",
    "            if val_loss < best_loss:\n",
    "                since_best = 0\n",
    "                best_loss = val_loss\n",
    "                \n",
    "                # save weights\n",
    "                if ckpt_weights_path:\n",
    "                    os.remove(ckpt_weights_path)\n",
    "                ckpt_weights_path = os.path.join(results_dir, 'model-{}.weights'.format(itr))\n",
    "                torch.save(model.state_dict(), ckpt_weights_path)\n",
    "                print_and_log('Weights saved in {}'.format(ckpt_weights_path), log_file)\n",
    "                \n",
    "                # save meta information\n",
    "                ckpt_meta_path = os.path.join(results_dir, 'checkpoint')\n",
    "                torch.save({\n",
    "                    'best_loss' : best_loss,\n",
    "                    'epoch' : epoch,\n",
    "                    'itr' : itr,\n",
    "                    'optimizer' : optimizer.state_dict(),\n",
    "                    'model' : model.state_dict()\n",
    "                }, ckpt_meta_path)\n",
    "            else:\n",
    "                since_best += 1\n",
    "                if since_best >= hparams['n_early_stopping']:\n",
    "                    done = True\n",
    "                    print_and_log('Early stopping... training complete', log_file)\n",
    "            \n",
    "            model.train()"
   ]
  },
  {
   "cell_type": "code",
   "execution_count": null,
   "metadata": {},
   "outputs": [],
   "source": []
  },
  {
   "cell_type": "code",
   "execution_count": null,
   "metadata": {},
   "outputs": [],
   "source": []
  }
 ],
 "metadata": {
  "kernelspec": {
   "display_name": "Python 3",
   "language": "python",
   "name": "python3"
  },
  "language_info": {
   "codemirror_mode": {
    "name": "ipython",
    "version": 3
   },
   "file_extension": ".py",
   "mimetype": "text/x-python",
   "name": "python",
   "nbconvert_exporter": "python",
   "pygments_lexer": "ipython3",
   "version": "3.6.9"
  }
 },
 "nbformat": 4,
 "nbformat_minor": 4
}
