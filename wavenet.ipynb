{
 "cells": [
  {
   "cell_type": "code",
   "execution_count": 2,
   "metadata": {},
   "outputs": [
    {
     "name": "stdout",
     "output_type": "stream",
     "text": [
      "WARNING:tensorflow:From /home/ec2-user/.local/lib/python3.6/site-packages/tensorflow_core/python/util/deprecation.py:507: UniformUnitScaling.__init__ (from tensorflow.python.ops.init_ops) is deprecated and will be removed in a future version.\n",
      "Instructions for updating:\n",
      "Use tf.initializers.variance_scaling instead with distribution=uniform to get equivalent behavior.\n"
     ]
    }
   ],
   "source": [
    "import os\n",
    "import sys\n",
    "import boto3\n",
    "import json\n",
    "import numpy as np\n",
    "import scipy.io.wavfile as sciwav\n",
    "import IPython.display\n",
    "import shutil\n",
    "\n",
    "from magenta.models.nsynth import utils\n",
    "from magenta.models.nsynth.wavenet.fastgen import encode\n",
    "import numpy as np\n",
    "import tensorflow.compat.v1 as tf"
   ]
  },
  {
   "cell_type": "code",
   "execution_count": 3,
   "metadata": {},
   "outputs": [],
   "source": [
    "bucket = 'music-ml-gigioli'\n",
    "checkpoint_path = 'wavenet-ckpt/model.ckpt-200000'\n",
    "batch_size = 16\n",
    "sample_length = 64000"
   ]
  },
  {
   "cell_type": "code",
   "execution_count": 4,
   "metadata": {},
   "outputs": [],
   "source": [
    "s3 = boto3.client('s3')\n",
    "obj = s3.get_object(Bucket=bucket, Key='data/nsynth/nsynth-train/examples.json')\n",
    "\n",
    "train_examples = json.loads(obj['Body'].read().decode('utf-8'))"
   ]
  },
  {
   "cell_type": "code",
   "execution_count": null,
   "metadata": {},
   "outputs": [],
   "source": [
    "wavfiles = list(train_examples.keys())\n",
    "\n",
    "if os.path.exists('/tmp/nsynth_wav_files'):\n",
    "    shutil.rmtree('/tmp/nsynth_wav_files')\n",
    "os.mkdir('/tmp/nsynth_wav_files')\n",
    "    \n",
    "\n",
    "for start_file in range(0, len(wavfiles), batch_size):\n",
    "    batch_number = (start_file / batch_size) + 1\n",
    "    tf.logging.info(\"On file number %s (batch %d).\", start_file, batch_number)\n",
    "    end_file = start_file + batch_size\n",
    "    batch_keys = wavfiles[start_file:end_file]\n",
    "    \n",
    "    batch_keys = ['data/nsynth/nsynth-train/audio/{}.wav'.format(x) for x in batch_keys]\n",
    "    \n",
    "    # download wav files locally\n",
    "    for key in batch_keys:\n",
    "        s3.download_file(bucket, key, '/tmp/nsynth_wav_files/{}'.format(key.split('/')[-1]))\n",
    "        \n",
    "    wavefiles_batch = ['/tmp/nsynth_wav_files/{}'.format(key.split('/')[-1]) for key in batch_keys]\n",
    "\n",
    "    # Ensure that files has batch_size elements.\n",
    "    batch_filler = batch_size - len(wavefiles_batch)\n",
    "    wavefiles_batch.extend(batch_filler * [wavefiles_batch[-1]])\n",
    "    wav_data = [utils.load_audio(f, sample_length) for f in wavefiles_batch]\n",
    "    min_len = min([x.shape[0] for x in wav_data])\n",
    "    wav_data = np.array([x[:min_len] for x in wav_data])\n",
    "    \n",
    "    try:\n",
    "        tf.reset_default_graph()\n",
    "        \n",
    "        # Load up the model for encoding and find the encoding\n",
    "        encoding = encode(wav_data, checkpoint_path, sample_length=sample_length)\n",
    "        if encoding.ndim == 2:\n",
    "            encoding = np.expand_dims(encoding, 0)\n",
    "\n",
    "        tf.logging.info(\"Encoding:\")\n",
    "        tf.logging.info(encoding.shape)\n",
    "        tf.logging.info(\"Sample length: %d\" % sample_length)\n",
    "\n",
    "#         for num, (wavfile, enc) in enumerate(zip(wavefiles_batch, encoding)):\n",
    "#             filename = \"%s_embeddings.npy\" % wavfile.split(\"/\")[-1].strip(\".wav\")\n",
    "#         with tf.gfile.Open(os.path.join(save_path, filename), \"w\") as f:\n",
    "#           np.save(f, enc)\n",
    "\n",
    "#         if num + batch_filler + 1 == batch_size:\n",
    "#           break\n",
    "    except Exception as e:\n",
    "        tf.logging.info(\"Unexpected error happened: %s.\", e)\n",
    "        raise\n",
    "        \n",
    "    break\n",
    "\n",
    "#     # delete local wav file copies\n",
    "#     for key in batch_keys:\n",
    "#         os.remove('/tmp/nsynth_wav_files/{}'.format(key.split('/')[-1]))"
   ]
  },
  {
   "cell_type": "code",
   "execution_count": 5,
   "metadata": {},
   "outputs": [],
   "source": [
    "wav_data = np.random.rand(16, 512)"
   ]
  },
  {
   "cell_type": "code",
   "execution_count": 8,
   "metadata": {},
   "outputs": [],
   "source": [
    "if os.path.exists('/tmp/nsynth_wav_embeddings'):\n",
    "    shutil.rmtree('/tmp/nsynth_wav_embeddings')\n",
    "os.mkdir('/tmp/nsynth_wav_embeddings')\n",
    "\n",
    "np.save(os.path.join('/tmp/nsynth_wav_embeddings', 'test.npy'), wav_data)"
   ]
  },
  {
   "cell_type": "code",
   "execution_count": null,
   "metadata": {},
   "outputs": [],
   "source": []
  },
  {
   "cell_type": "code",
   "execution_count": null,
   "metadata": {},
   "outputs": [],
   "source": []
  },
  {
   "cell_type": "code",
   "execution_count": null,
   "metadata": {},
   "outputs": [],
   "source": []
  },
  {
   "cell_type": "code",
   "execution_count": null,
   "metadata": {},
   "outputs": [],
   "source": [
    "wavfiles_batch"
   ]
  },
  {
   "cell_type": "code",
   "execution_count": 12,
   "metadata": {},
   "outputs": [
    {
     "name": "stdout",
     "output_type": "stream",
     "text": [
      "bass_synthetic_016-080-127.wav\t     keyboard_electronic_089-044-100.wav\n",
      "bass_synthetic_120-108-050.wav\t     keyboard_electronic_100-040-025.wav\n",
      "guitar_acoustic_001-082-050.wav      organ_electronic_002-068-100.wav\n",
      "guitar_electronic_021-026-025.wav    organ_electronic_011-079-075.wav\n",
      "guitar_electronic_035-062-127.wav    organ_electronic_111-065-100.wav\n",
      "keyboard_acoustic_010-084-127.wav    organ_electronic_120-050-127.wav\n",
      "keyboard_acoustic_011-053-127.wav    vocal_synthetic_007-064-025.wav\n",
      "keyboard_electronic_065-069-025.wav  vocal_synthetic_012-086-100.wav\n"
     ]
    }
   ],
   "source": [
    "!ls /tmp/nsynth_wav_files"
   ]
  },
  {
   "cell_type": "code",
   "execution_count": 10,
   "metadata": {},
   "outputs": [
    {
     "name": "stdout",
     "output_type": "stream",
     "text": [
      "test.npy\n"
     ]
    }
   ],
   "source": [
    "!ls /tmp/nsynth_wav_embeddings"
   ]
  },
  {
   "cell_type": "code",
   "execution_count": null,
   "metadata": {},
   "outputs": [],
   "source": []
  },
  {
   "cell_type": "code",
   "execution_count": null,
   "metadata": {},
   "outputs": [],
   "source": []
  },
  {
   "cell_type": "code",
   "execution_count": null,
   "metadata": {},
   "outputs": [],
   "source": []
  },
  {
   "cell_type": "code",
   "execution_count": null,
   "metadata": {},
   "outputs": [],
   "source": [
    "\n",
    "\n",
    "FLAGS = tf.app.flags.FLAGS\n",
    "\n",
    "tf.app.flags.DEFINE_string(\"source_path\", \"\",\n",
    "                           \"The directory of WAVs to yield embeddings from.\")\n",
    "tf.app.flags.DEFINE_string(\"save_path\", \"\", \"The directory to save \"\n",
    "                           \"the embeddings.\")\n",
    "tf.app.flags.DEFINE_string(\"checkpoint_path\", \"\",\n",
    "                           \"A path to the checkpoint. If not given, the latest \"\n",
    "                           \"checkpoint in `expdir` will be used.\")\n",
    "tf.app.flags.DEFINE_string(\"expdir\", \"\",\n",
    "                           \"The log directory for this experiment. Required if \"\n",
    "                           \"`checkpoint_path` is not given.\")\n",
    "tf.app.flags.DEFINE_integer(\"sample_length\", 64000, \"Sample length.\")\n",
    "tf.app.flags.DEFINE_integer(\"batch_size\", 16, \"Sample length.\")\n",
    "tf.app.flags.DEFINE_string(\"log\", \"INFO\",\n",
    "                           \"The threshold for what messages will be logged.\"\n",
    "                           \"DEBUG, INFO, WARN, ERROR, or FATAL.\")\n",
    "\n",
    "\n",
    "def main(unused_argv=None):\n",
    "  tf.logging.set_verbosity(FLAGS.log)\n",
    "\n",
    "  if FLAGS.checkpoint_path:\n",
    "    checkpoint_path = utils.shell_path(FLAGS.checkpoint_path)\n",
    "  else:\n",
    "    expdir = utils.shell_path(FLAGS.expdir)\n",
    "    tf.logging.info(\"Will load latest checkpoint from %s.\", expdir)\n",
    "    while not tf.gfile.Exists(expdir):\n",
    "      tf.logging.fatal(\"\\tExperiment save dir '%s' does not exist!\", expdir)\n",
    "      sys.exit(1)\n",
    "\n",
    "    try:\n",
    "      checkpoint_path = tf.train.latest_checkpoint(expdir)\n",
    "    except tf.errors.NotFoundError:\n",
    "      tf.logging.fatal(\"There was a problem determining the latest checkpoint.\")\n",
    "      sys.exit(1)\n",
    "\n",
    "  if not tf.train.checkpoint_exists(checkpoint_path):\n",
    "    tf.logging.fatal(\"Invalid checkpoint path: %s\", checkpoint_path)\n",
    "    sys.exit(1)\n",
    "\n",
    "  tf.logging.info(\"Will restore from checkpoint: %s\", checkpoint_path)\n",
    "\n",
    "  source_path = utils.shell_path(FLAGS.source_path)\n",
    "  tf.logging.info(\"Will load Wavs from %s.\" % source_path)\n",
    "\n",
    "  save_path = utils.shell_path(FLAGS.save_path)\n",
    "  tf.logging.info(\"Will save embeddings to %s.\" % save_path)\n",
    "  if not tf.gfile.Exists(save_path):\n",
    "    tf.logging.info(\"Creating save directory...\")\n",
    "    tf.gfile.MakeDirs(save_path)\n",
    "\n",
    "  sample_length = FLAGS.sample_length\n",
    "  batch_size = FLAGS.batch_size\n",
    "\n",
    "  def is_wav(f):\n",
    "    return f.lower().endswith(\".wav\")\n",
    "\n",
    "  wavfiles = sorted([\n",
    "      os.path.join(source_path, fname)\n",
    "      for fname in tf.gfile.ListDirectory(source_path) if is_wav(fname)\n",
    "  ])\n",
    "\n",
    "  for start_file in range(0, len(wavfiles), batch_size):\n",
    "    batch_number = (start_file / batch_size) + 1\n",
    "    tf.logging.info(\"On file number %s (batch %d).\", start_file, batch_number)\n",
    "    end_file = start_file + batch_size\n",
    "    wavefiles_batch = wavfiles[start_file:end_file]\n",
    "\n",
    "    # Ensure that files has batch_size elements.\n",
    "    batch_filler = batch_size - len(wavefiles_batch)\n",
    "    wavefiles_batch.extend(batch_filler * [wavefiles_batch[-1]])\n",
    "    wav_data = [utils.load_audio(f, sample_length) for f in wavefiles_batch]\n",
    "    min_len = min([x.shape[0] for x in wav_data])\n",
    "    wav_data = np.array([x[:min_len] for x in wav_data])\n",
    "    try:\n",
    "      tf.reset_default_graph()\n",
    "      # Load up the model for encoding and find the encoding\n",
    "      encoding = encode(wav_data, checkpoint_path, sample_length=sample_length)\n",
    "      if encoding.ndim == 2:\n",
    "        encoding = np.expand_dims(encoding, 0)\n",
    "\n",
    "      tf.logging.info(\"Encoding:\")\n",
    "      tf.logging.info(encoding.shape)\n",
    "      tf.logging.info(\"Sample length: %d\" % sample_length)\n",
    "\n",
    "      for num, (wavfile, enc) in enumerate(zip(wavefiles_batch, encoding)):\n",
    "        filename = \"%s_embeddings.npy\" % wavfile.split(\"/\")[-1].strip(\".wav\")\n",
    "        with tf.gfile.Open(os.path.join(save_path, filename), \"w\") as f:\n",
    "          np.save(f, enc)\n",
    "\n",
    "        if num + batch_filler + 1 == batch_size:\n",
    "          break\n",
    "    except Exception as e:\n",
    "      tf.logging.info(\"Unexpected error happened: %s.\", e)\n",
    "      raise"
   ]
  }
 ],
 "metadata": {
  "kernelspec": {
   "display_name": "conda_amazonei_tensorflow_p36",
   "language": "python",
   "name": "conda_amazonei_tensorflow_p36"
  },
  "language_info": {
   "codemirror_mode": {
    "name": "ipython",
    "version": 3
   },
   "file_extension": ".py",
   "mimetype": "text/x-python",
   "name": "python",
   "nbconvert_exporter": "python",
   "pygments_lexer": "ipython3",
   "version": "3.6.6"
  }
 },
 "nbformat": 4,
 "nbformat_minor": 4
}
