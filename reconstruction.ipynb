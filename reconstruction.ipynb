{
 "cells": [
  {
   "cell_type": "code",
   "execution_count": 1,
   "metadata": {},
   "outputs": [
    {
     "name": "stderr",
     "output_type": "stream",
     "text": [
      "/home/ec2-user/.local/lib/python3.6/site-packages/librosa/util/decorators.py:9: NumbaDeprecationWarning: \u001b[1mAn import was requested from a module that has moved location.\n",
      "Import of 'jit' requested from: 'numba.decorators', please update to use 'numba.core.decorators' or pin to Numba version 0.48.0. This alias will not be present in Numba version 0.50.0.\u001b[0m\n",
      "  from numba.decorators import jit as optional_jit\n"
     ]
    }
   ],
   "source": [
    "import torch\n",
    "import torch.nn as nn\n",
    "import torch.nn.functional as F\n",
    "import numpy as np\n",
    "import librosa\n",
    "import librosa.display\n",
    "import IPython.display\n",
    "\n",
    "from src.data import NSynthDataset\n",
    "from src.models import Autoencoder, SpatialTimeAutoencoder, AutoencoderLite"
   ]
  },
  {
   "cell_type": "code",
   "execution_count": 2,
   "metadata": {},
   "outputs": [
    {
     "data": {
      "text/plain": [
       "<All keys matched successfully>"
      ]
     },
     "execution_count": 2,
     "metadata": {},
     "output_type": "execute_result"
    }
   ],
   "source": [
    "model = Autoencoder(h_dim=128)\n",
    "model.load_state_dict(torch.load('train_results/autoencoder/20200508-184120/model-11000.weights'))"
   ]
  },
  {
   "cell_type": "code",
   "execution_count": 3,
   "metadata": {},
   "outputs": [],
   "source": [
    "val_dataset = NSynthDataset(\n",
    "    'music-ml-gigioli', \n",
    "    'data/nsynth/nsynth-valid', \n",
    "    instrument_source=[0], \n",
    "    feature_type='mel',\n",
    "    scaling='normalize',\n",
    "    resize=(128, 128)\n",
    ")"
   ]
  },
  {
   "cell_type": "code",
   "execution_count": 17,
   "metadata": {},
   "outputs": [],
   "source": [
    "features = val_dataset[16]"
   ]
  },
  {
   "cell_type": "code",
   "execution_count": 18,
   "metadata": {},
   "outputs": [],
   "source": [
    "model.eval()\n",
    "features = torch.tensor(features, dtype=torch.float32).unsqueeze(0).unsqueeze(0)\n",
    "outputs = model(features)"
   ]
  },
  {
   "cell_type": "code",
   "execution_count": 19,
   "metadata": {},
   "outputs": [
    {
     "data": {
      "text/plain": [
       "<matplotlib.axes._subplots.AxesSubplot at 0x7fd399e51898>"
      ]
     },
     "execution_count": 19,
     "metadata": {},
     "output_type": "execute_result"
    },
    {
     "data": {
      "image/png": "[encoded data removed]",
      "text/plain": [
       "<Figure size 432x288 with 1 Axes>"
      ]
     },
     "metadata": {},
     "output_type": "display_data"
    }
   ],
   "source": [
    "librosa.display.specshow(features.numpy().squeeze(), sr=16000, x_axis='time', y_axis='hz')"
   ]
  },
  {
   "cell_type": "code",
   "execution_count": 20,
   "metadata": {},
   "outputs": [
    {
     "data": {
      "text/plain": [
       "<matplotlib.axes._subplots.AxesSubplot at 0x7fd399dff898>"
      ]
     },
     "execution_count": 20,
     "metadata": {},
     "output_type": "execute_result"
    },
    {
     "data": {
      "image/png": "[encoded data removed]",
      "text/plain": [
       "<Figure size 432x288 with 1 Axes>"
      ]
     },
     "metadata": {},
     "output_type": "display_data"
    }
   ],
   "source": [
    "librosa.display.specshow(outputs.detach().numpy().squeeze(), sr=16000, x_axis='time', y_axis='hz')"
   ]
  },
  {
   "cell_type": "code",
   "execution_count": 15,
   "metadata": {},
   "outputs": [],
   "source": [
    "class Autoencoder2(nn.Module):\n",
    "    def __init__(self, h_dim=1024):\n",
    "        super(Autoencoder2, self).__init__()\n",
    "\n",
    "        # (1, 128, 251)\n",
    "        self.conv1 = nn.Conv2d(1, 32, 4, padding=(1, 4), stride=(2, 2))\n",
    "        self.conv2 = nn.Conv2d(32, 64, 4, padding=1, stride=(2, 2))\n",
    "        self.conv3 = nn.Conv2d(64, 128, 4, padding=1, stride=(2, 2))\n",
    "        self.conv4 = nn.Conv2d(128, 256, 4, padding=1, stride=(2, 2))\n",
    "        self.conv5 = nn.Conv2d(256, 512, 4, padding=1, stride=(2, 2))\n",
    "\n",
    "        self.fc_enc = nn.Linear(512*4*8, h_dim, bias=True)\n",
    "        self.fc_dec = nn.Linear(h_dim, 512*4*8, bias=True)\n",
    "\n",
    "        self.deconv1 = nn.ConvTranspose2d(512, 256, 2, stride=2)\n",
    "        self.deconv2 = nn.ConvTranspose2d(256, 128, 2, stride=2)\n",
    "        self.deconv3 = nn.ConvTranspose2d(128, 64, 2, stride=2)\n",
    "        self.deconv4 = nn.ConvTranspose2d(64, 32, 2, stride=2)\n",
    "        self.deconv5 = nn.ConvTranspose2d(32, 1, (2, 3), padding=(0, 3), stride=2)\n",
    "        \n",
    "        # (1, 40, 126)\n",
    "#         self.conv1 = nn.Conv2d(1, 32, 4, padding=1, stride=(2, 2))\n",
    "#         self.conv2 = nn.Conv2d(32, 64, 4, padding=1, stride=(2, 2))\n",
    "#         self.conv3 = nn.Conv2d(64, 128, 4, padding=1, stride=(2, 2))\n",
    "#         self.conv4 = nn.Conv2d(128, 256, 4, padding=1, stride=(2, 2))\n",
    "        \n",
    "#         self.fc_enc = nn.Linear(3584, h_dim, bias=True)\n",
    "#         self.fc_dec = nn.Linear(h_dim, 3584, bias=True)\n",
    "\n",
    "#         self.deconv1 = nn.ConvTranspose2d(256, 128, 3, stride=2)\n",
    "#         self.deconv2 = nn.ConvTranspose2d(128, 64, (2, 3), stride=2)\n",
    "#         self.deconv3 = nn.ConvTranspose2d(64, 32, (2, 3), stride=2)\n",
    "#         self.deconv4 = nn.ConvTranspose2d(32, 1, 2, stride=2)\n",
    "        \n",
    "    def encode(self, x):\n",
    "        x = F.relu(self.conv1(x))\n",
    "        x = F.relu(self.conv2(x))\n",
    "        x = F.relu(self.conv3(x))\n",
    "        x = F.relu(self.conv4(x))\n",
    "        x = F.relu(self.conv5(x))\n",
    "    \n",
    "        x = x.view(x.size(0), -1)\n",
    "        return F.relu(self.fc_enc(x))\n",
    "        \n",
    "    def decode(self, h):\n",
    "        h = F.relu(self.fc_dec(h))\n",
    "        h = h.view(h.size(0), 512, 4, 8)\n",
    "        \n",
    "        h = F.relu(self.deconv1(h))\n",
    "        h = F.relu(self.deconv2(h))\n",
    "        h = F.relu(self.deconv3(h))\n",
    "        h = F.relu(self.deconv4(h))\n",
    "        h = self.deconv5(h)\n",
    "        return torch.sigmoid(h)\n",
    "        \n",
    "    def forward(self, x):\n",
    "        h = self.encode(x)\n",
    "        outputs = self.decode(h)\n",
    "        return outputs"
   ]
  },
  {
   "cell_type": "code",
   "execution_count": 113,
   "metadata": {},
   "outputs": [
    {
     "data": {
      "text/plain": [
       "<All keys matched successfully>"
      ]
     },
     "execution_count": 113,
     "metadata": {},
     "output_type": "execute_result"
    }
   ],
   "source": [
    "model2 = Autoencoder2(128)\n",
    "model2.load_state_dict(torch.load('train_results/autoencoder/20200430-175135/model-8000.weights'))"
   ]
  },
  {
   "cell_type": "code",
   "execution_count": 114,
   "metadata": {},
   "outputs": [],
   "source": [
    "val_dataset = NSynthDataset(\n",
    "    'music-ml-gigioli', \n",
    "    'data/nsynth/nsynth-valid', \n",
    "    instrument_source=[0], \n",
    "    feature_type='mel',\n",
    "    scaling='normalize'\n",
    ")"
   ]
  },
  {
   "cell_type": "code",
   "execution_count": 132,
   "metadata": {},
   "outputs": [],
   "source": [
    "features = val_dataset[12]"
   ]
  },
  {
   "cell_type": "code",
   "execution_count": 133,
   "metadata": {},
   "outputs": [],
   "source": [
    "model2.eval()\n",
    "features = torch.tensor(features, dtype=torch.float32).unsqueeze(0).unsqueeze(0)\n",
    "outputs = model2(features)"
   ]
  },
  {
   "cell_type": "code",
   "execution_count": 134,
   "metadata": {},
   "outputs": [
    {
     "data": {
      "text/plain": [
       "<matplotlib.axes._subplots.AxesSubplot at 0x7f5e5e56efd0>"
      ]
     },
     "execution_count": 134,
     "metadata": {},
     "output_type": "execute_result"
    },
    {
     "data": {
      "image/png": "[encoded data removed]",
      "text/plain": [
       "<Figure size 432x288 with 1 Axes>"
      ]
     },
     "metadata": {},
     "output_type": "display_data"
    }
   ],
   "source": [
    "librosa.display.specshow(features.numpy().squeeze(), sr=16000, x_axis='time', y_axis='hz')"
   ]
  },
  {
   "cell_type": "code",
   "execution_count": 135,
   "metadata": {},
   "outputs": [
    {
     "data": {
      "text/plain": [
       "<matplotlib.axes._subplots.AxesSubplot at 0x7f5e5e4ed208>"
      ]
     },
     "execution_count": 135,
     "metadata": {},
     "output_type": "execute_result"
    },
    {
     "data": {
      "image/png": "[encoded data removed]",
      "text/plain": [
       "<Figure size 432x288 with 1 Axes>"
      ]
     },
     "metadata": {},
     "output_type": "display_data"
    }
   ],
   "source": [
    "librosa.display.specshow(outputs.detach().numpy().squeeze(), sr=16000, x_axis='time', y_axis='hz')"
   ]
  },
  {
   "cell_type": "code",
   "execution_count": null,
   "metadata": {},
   "outputs": [],
   "source": []
  }
 ],
 "metadata": {
  "kernelspec": {
   "display_name": "conda_pytorch_p36",
   "language": "python",
   "name": "conda_pytorch_p36"
  },
  "language_info": {
   "codemirror_mode": {
    "name": "ipython",
    "version": 3
   },
   "file_extension": ".py",
   "mimetype": "text/x-python",
   "name": "python",
   "nbconvert_exporter": "python",
   "pygments_lexer": "ipython3",
   "version": "3.6.5"
  }
 },
 "nbformat": 4,
 "nbformat_minor": 4
}
