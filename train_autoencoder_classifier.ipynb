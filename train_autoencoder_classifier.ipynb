{
 "cells": [
  {
   "cell_type": "code",
   "execution_count": 1,
   "metadata": {},
   "outputs": [
    {
     "name": "stderr",
     "output_type": "stream",
     "text": [
      "/home/ec2-user/.local/lib/python3.6/site-packages/librosa/util/decorators.py:9: NumbaDeprecationWarning: \u001b[1mAn import was requested from a module that has moved location.\n",
      "Import of 'jit' requested from: 'numba.decorators', please update to use 'numba.core.decorators' or pin to Numba version 0.48.0. This alias will not be present in Numba version 0.50.0.\u001b[0m\n",
      "  from numba.decorators import jit as optional_jit\n"
     ]
    }
   ],
   "source": [
    "import torch\n",
    "import torch.nn as nn\n",
    "import torch.nn.functional as F\n",
    "import numpy as np\n",
    "from collections import Counter\n",
    "import datetime\n",
    "import time\n",
    "import os\n",
    "import json\n",
    "\n",
    "from src.data import NSynthDataset\n",
    "from src.utils import print_and_log\n",
    "from src.models import AutoencoderClassifier"
   ]
  },
  {
   "cell_type": "code",
   "execution_count": 2,
   "metadata": {},
   "outputs": [],
   "source": [
    "if torch.cuda.is_available():  \n",
    "    device = torch.device(\"cuda:0\")\n",
    "else:  \n",
    "    device = torch.device(\"cpu\") "
   ]
  },
  {
   "cell_type": "code",
   "execution_count": 3,
   "metadata": {},
   "outputs": [],
   "source": [
    "hparams = {\n",
    "    'checkpoint' : None,\n",
    "    'feature_type' : 'mel',\n",
    "    'instrument_source' : [0, 1, 2],\n",
    "    'scaling' : 'normalize',\n",
    "    'resize' : (128, 128),\n",
    "    'n_epochs' : 25,\n",
    "    'batch_size' : 64,\n",
    "    'lr' : 0.001,\n",
    "    'hidden_dim' : 128,\n",
    "    'display_iters' : 100,\n",
    "    'val_iters' : 1000,\n",
    "    'n_val_samples' : 1000, \n",
    "    'n_early_stopping' : 5 # stop if validation doesn't improve after this number of validation cycles\n",
    "}"
   ]
  },
  {
   "cell_type": "code",
   "execution_count": 4,
   "metadata": {},
   "outputs": [],
   "source": [
    "train_dataset = NSynthDataset(\n",
    "    'music-ml-gigioli', \n",
    "    'data/nsynth/nsynth-train', \n",
    "    instrument_source=hparams['instrument_source'], \n",
    "    feature_type=hparams['feature_type'],\n",
    "    scaling=hparams['scaling'],\n",
    "    resize=hparams['resize'],\n",
    "    include_meta=True\n",
    ")\n",
    "\n",
    "val_dataset = NSynthDataset(\n",
    "    'music-ml-gigioli', \n",
    "    'data/nsynth/nsynth-valid', \n",
    "    instrument_source=hparams['instrument_source'], \n",
    "    feature_type=hparams['feature_type'],\n",
    "    scaling=hparams['scaling'],\n",
    "    resize=hparams['resize'],\n",
    "    include_meta=True\n",
    ")"
   ]
  },
  {
   "cell_type": "code",
   "execution_count": 5,
   "metadata": {},
   "outputs": [],
   "source": [
    "class_ctr = Counter([x['instrument_family_str'] for x in train_dataset.meta.values()])\n",
    "class_dict = dict(enumerate(sorted(class_ctr)))\n",
    "inv_class_dict = dict([(v, k) for k, v in class_dict.items()])\n",
    "class_weights = np.array([max(class_ctr.values())/class_ctr[class_dict[i]] for i in range(len(class_dict))])"
   ]
  },
  {
   "cell_type": "code",
   "execution_count": 6,
   "metadata": {},
   "outputs": [],
   "source": [
    "train_dataloader = torch.utils.data.DataLoader(train_dataset, batch_size=hparams['batch_size'], shuffle=True)\n",
    "val_dataloader = torch.utils.data.DataLoader(val_dataset, batch_size=hparams['batch_size'], shuffle=True)"
   ]
  },
  {
   "cell_type": "code",
   "execution_count": 7,
   "metadata": {},
   "outputs": [
    {
     "name": "stdout",
     "output_type": "stream",
     "text": [
      "# of parameters : 8400908\n"
     ]
    }
   ],
   "source": [
    "model = AutoencoderClassifier(n_classes=len(class_dict), h_dim=hparams['hidden_dim']).to(device)\n",
    "print('# of parameters : {}'.format(sum(p.numel() for p in model.parameters() if p.requires_grad)))"
   ]
  },
  {
   "cell_type": "code",
   "execution_count": 8,
   "metadata": {},
   "outputs": [],
   "source": [
    "optimizer = torch.optim.Adam(model.parameters(), lr=hparams['lr'])"
   ]
  },
  {
   "cell_type": "code",
   "execution_count": 9,
   "metadata": {},
   "outputs": [
    {
     "name": "stdout",
     "output_type": "stream",
     "text": [
      "AutoencoderClassifier\n"
     ]
    }
   ],
   "source": [
    "timestamp = datetime.datetime.fromtimestamp(time.time()).strftime('%Y%m%d-%H%M%S')\n",
    "results_dir = 'train_results/multitask/{}'.format(timestamp)\n",
    "os.makedirs(results_dir)\n",
    "\n",
    "with open(os.path.join(results_dir, 'hparams.json'), 'w') as fp:\n",
    "    json.dump(hparams, fp)\n",
    "\n",
    "log_file = os.path.join(results_dir, 'train_log.txt')\n",
    "log = open(log_file, 'w')\n",
    "log.close()\n",
    "print_and_log('{}'.format(model.__class__.__name__), log_file)"
   ]
  },
  {
   "cell_type": "code",
   "execution_count": null,
   "metadata": {},
   "outputs": [
    {
     "name": "stdout",
     "output_type": "stream",
     "text": [
      "[0,     1] loss : (total - 3.7081, class - 2.5680, recon - 1.1401), acc : 0.0938\n",
      "[0,   100] loss : (total - 1.7914, class - 1.7054, recon - 0.0860), acc : 0.4219\n",
      "[0,   200] loss : (total - 1.9315, class - 1.9004, recon - 0.0311), acc : 0.3125\n",
      "[0,   300] loss : (total - 1.5662, class - 1.5454, recon - 0.0208), acc : 0.4062\n",
      "[0,   400] loss : (total - 1.2716, class - 1.2469, recon - 0.0247), acc : 0.4219\n",
      "[0,   500] loss : (total - 1.3510, class - 1.3299, recon - 0.0211), acc : 0.4688\n",
      "[0,   600] loss : (total - 1.1750, class - 1.1607, recon - 0.0144), acc : 0.4844\n",
      "[0,   700] loss : (total - 0.9242, class - 0.9022, recon - 0.0221), acc : 0.6250\n",
      "[0,   800] loss : (total - 1.3098, class - 1.2951, recon - 0.0147), acc : 0.4531\n",
      "[0,   900] loss : (total - 1.6469, class - 1.6286, recon - 0.0184), acc : 0.4844\n",
      "[0,  1000] loss : (total - 0.8387, class - 0.8159, recon - 0.0228), acc : 0.7031\n",
      "Val - loss : (total - 4.0125, class - 3.9871, recon - 0.0254), acc : 0.1543\n",
      "Weights saved in train_results/multitask/20200515-185951/model-1000.weights\n"
     ]
    }
   ],
   "source": [
    "recon_loss_fn = nn.BCELoss()\n",
    "class_loss_fn = nn.CrossEntropyLoss(weight=torch.tensor(class_weights, dtype=torch.float32))\n",
    "\n",
    "ckpt_weights_path = None\n",
    "best_loss = 1e10\n",
    "since_best = 0\n",
    "done = False\n",
    "\n",
    "if hparams['checkpoint']:\n",
    "    print_and_log('Resuming training from {}'.format(hparams['checkpoint']), log_file)\n",
    "    ckpt = torch.load(hparams['checkpoint'])\n",
    "    epoch = ckpt['epoch']\n",
    "    itr = ckpt['itr']\n",
    "    optimizer.load_state_dict(ckpt['optimizer'])\n",
    "    model.load_state_dict(ckpt['model'])\n",
    "    best_loss = ckpt['best_loss']\n",
    "else:\n",
    "    epoch = 0\n",
    "    itr = 0\n",
    "\n",
    "for epoch in range(epoch, hparams['n_epochs']):\n",
    "    if done:\n",
    "        break\n",
    "        \n",
    "    for batch in train_dataloader:\n",
    "        if done:\n",
    "            break\n",
    "            \n",
    "        itr += 1\n",
    "        features = batch[0].unsqueeze(1)\n",
    "        labels = torch.tensor([inv_class_dict[i] for i in batch[1]['instrument_family_str']], dtype=torch.long)\n",
    "        logits, recon = model(features)\n",
    "        \n",
    "        class_loss = class_loss_fn(logits, labels)\n",
    "        recon_loss = recon_loss_fn(recon, features)\n",
    "        loss = class_loss + recon_loss\n",
    "        \n",
    "        optimizer.zero_grad()\n",
    "        loss.backward()\n",
    "        optimizer.step()\n",
    "        \n",
    "        if (itr % hparams['display_iters'] == 0) or (itr == 1):\n",
    "            acc = (logits.argmax(-1) == labels).float().mean()\n",
    "            print_and_log('[{}, {:5d}] loss : (total - {:.4f}, class - {:.4f}, recon - {:.4f}), acc : {:.4f}'\\\n",
    "                          .format(epoch, itr, loss.item(), class_loss.item(), recon_loss.item(), acc.item()), log_file)\n",
    "            \n",
    "        if itr % hparams['val_iters'] == 0:\n",
    "            val_dataloader = torch.utils.data.DataLoader(val_dataset, batch_size=hparams['batch_size'], shuffle=True)\n",
    "            \n",
    "            model.eval()\n",
    "            \n",
    "            ct, i, val_loss, val_class_loss, val_recon_loss, val_acc = 0, 0, 0.0, 0.0, 0.0, 0.0\n",
    "            for batch in val_dataloader:\n",
    "                i += 1\n",
    "                ct += batch[0].size(0)\n",
    "                features = batch[0].unsqueeze(1)\n",
    "                labels = torch.tensor([inv_class_dict[i] for i in batch[1]['instrument_family_str']], dtype=torch.long)\n",
    "                logits, recon = model(features)\n",
    "                \n",
    "                class_loss = class_loss_fn(logits, labels)\n",
    "                recon_loss = recon_loss_fn(recon, features)\n",
    "                loss = class_loss + recon_loss\n",
    "                acc = (logits.argmax(-1) == labels).float().mean()\n",
    "                \n",
    "                val_loss += (loss.item() - val_loss)/i\n",
    "                val_class_loss += (class_loss.item() - val_class_loss)/i\n",
    "                val_recon_loss += (recon_loss.item() - val_recon_loss)/i\n",
    "                val_acc += (acc.item() - val_acc)/i\n",
    "                \n",
    "                if ct >= hparams['n_val_samples']:\n",
    "                    break\n",
    "                \n",
    "            print_and_log('Val - loss : (total - {:.4f}, class - {:.4f}, recon - {:.4f}), acc : {:.4f}'\\\n",
    "                          .format(val_loss, val_class_loss, val_recon_loss, val_acc), log_file)\n",
    "            \n",
    "            librosa.display.specshow(features[0][0].numpy(), sr=16000, x_axis='time', y_axis='hz')\n",
    "            plt.show()\n",
    "            librosa.display.specshow(recon[0][0].detach().numpy(), sr=16000, x_axis='time', y_axis='hz')\n",
    "            plt.show()\n",
    "            \n",
    "            if val_loss < best_loss:\n",
    "                since_best = 0\n",
    "                best_loss = val_loss\n",
    "                \n",
    "                # save weights\n",
    "                if ckpt_weights_path:\n",
    "                    os.remove(ckpt_weights_path)\n",
    "                ckpt_weights_path = os.path.join(results_dir, 'model-{}.weights'.format(itr))\n",
    "                torch.save(model.state_dict(), ckpt_weights_path)\n",
    "                print_and_log('Weights saved in {}'.format(ckpt_weights_path), log_file)\n",
    "                \n",
    "                # save meta information\n",
    "                ckpt_meta_path = os.path.join(results_dir, 'checkpoint')\n",
    "                torch.save({\n",
    "                    'best_loss' : best_loss,\n",
    "                    'epoch' : epoch,\n",
    "                    'itr' : itr,\n",
    "                    'optimizer' : optimizer.state_dict(),\n",
    "                    'model' : model.state_dict()\n",
    "                }, ckpt_meta_path)\n",
    "            else:\n",
    "                since_best += 1\n",
    "                if since_best >= hparams['n_early_stopping']:\n",
    "                    done = True\n",
    "                    print_and_log('Early stopping... training complete', log_file)\n",
    "            \n",
    "            model.train()"
   ]
  },
  {
   "cell_type": "code",
   "execution_count": null,
   "metadata": {},
   "outputs": [],
   "source": []
  },
  {
   "cell_type": "code",
   "execution_count": null,
   "metadata": {},
   "outputs": [],
   "source": []
  }
 ],
 "metadata": {
  "kernelspec": {
   "display_name": "conda_pytorch_p36",
   "language": "python",
   "name": "conda_pytorch_p36"
  },
  "language_info": {
   "codemirror_mode": {
    "name": "ipython",
    "version": 3
   },
   "file_extension": ".py",
   "mimetype": "text/x-python",
   "name": "python",
   "nbconvert_exporter": "python",
   "pygments_lexer": "ipython3",
   "version": "3.6.5"
  }
 },
 "nbformat": 4,
 "nbformat_minor": 4
}
